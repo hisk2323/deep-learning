{
  "nbformat": 4,
  "nbformat_minor": 0,
  "metadata": {
    "colab": {
      "provenance": []
    },
    "kernelspec": {
      "name": "python3",
      "display_name": "Python 3"
    },
    "language_info": {
      "name": "python"
    }
  },
  "cells": [
    {
      "cell_type": "code",
      "execution_count": null,
      "metadata": {
        "id": "1gFZlIAGgapd"
      },
      "outputs": [],
      "source": [
        "import pandas as pd\n",
        "import numpy as np\n",
        "Iris=pd.read_csv(\"/content/Iris.csv\")\n",
        "\n"
      ]
    },
    {
      "cell_type": "code",
      "source": [
        "Iris.info()"
      ],
      "metadata": {
        "colab": {
          "base_uri": "https://localhost:8080/"
        },
        "id": "ukgGF-jTgoB8",
        "outputId": "8050e8f3-03bd-4268-8ed8-54515d690909"
      },
      "execution_count": null,
      "outputs": [
        {
          "output_type": "stream",
          "name": "stdout",
          "text": [
            "<class 'pandas.core.frame.DataFrame'>\n",
            "RangeIndex: 150 entries, 0 to 149\n",
            "Data columns (total 6 columns):\n",
            " #   Column         Non-Null Count  Dtype  \n",
            "---  ------         --------------  -----  \n",
            " 0   Id             150 non-null    int64  \n",
            " 1   SepalLengthCm  150 non-null    float64\n",
            " 2   SepalWidthCm   150 non-null    float64\n",
            " 3   PetalLengthCm  150 non-null    float64\n",
            " 4   PetalWidthCm   150 non-null    float64\n",
            " 5   Species        150 non-null    object \n",
            "dtypes: float64(4), int64(1), object(1)\n",
            "memory usage: 7.2+ KB\n"
          ]
        }
      ]
    },
    {
      "cell_type": "code",
      "source": [
        "from sklearn import preprocessing \n",
        "le = preprocessing.LabelEncoder()\n",
        "Iris['Species']= le.fit_transform(Iris['Species'])\n",
        "  \n",
        "Iris['Species'].unique()"
      ],
      "metadata": {
        "colab": {
          "base_uri": "https://localhost:8080/"
        },
        "id": "pKtJVbtu5aG_",
        "outputId": "bd685ad7-9ae1-436e-870d-60705b6a41fe"
      },
      "execution_count": null,
      "outputs": [
        {
          "output_type": "execute_result",
          "data": {
            "text/plain": [
              "array([0, 1, 2])"
            ]
          },
          "metadata": {},
          "execution_count": 24
        }
      ]
    },
    {
      "cell_type": "code",
      "source": [
        "X=Iris.drop(['Id','Species'],axis=1)\n",
        "Y=Iris['Species']\n",
        "Y"
      ],
      "metadata": {
        "colab": {
          "base_uri": "https://localhost:8080/"
        },
        "id": "jnYGrZEn6_c7",
        "outputId": "6cd9a4c1-b76f-46c8-c0a1-8d91c605a72e"
      },
      "execution_count": null,
      "outputs": [
        {
          "output_type": "execute_result",
          "data": {
            "text/plain": [
              "0      0\n",
              "1      0\n",
              "2      0\n",
              "3      0\n",
              "4      0\n",
              "      ..\n",
              "145    2\n",
              "146    2\n",
              "147    2\n",
              "148    2\n",
              "149    2\n",
              "Name: Species, Length: 150, dtype: int64"
            ]
          },
          "metadata": {},
          "execution_count": 25
        }
      ]
    },
    {
      "cell_type": "code",
      "source": [
        "from keras.utils import to_categorical\n",
        "Y= to_categorical(Y)\n",
        " #y_test = to_categorical(y_test)\n",
        "Y"
      ],
      "metadata": {
        "colab": {
          "base_uri": "https://localhost:8080/"
        },
        "id": "9ztFe2h9He3u",
        "outputId": "66191ad5-7730-4df6-a09f-f449decbf1c0"
      },
      "execution_count": null,
      "outputs": [
        {
          "output_type": "execute_result",
          "data": {
            "text/plain": [
              "array([[1., 0., 0.],\n",
              "       [1., 0., 0.],\n",
              "       [1., 0., 0.],\n",
              "       [1., 0., 0.],\n",
              "       [1., 0., 0.],\n",
              "       [1., 0., 0.],\n",
              "       [1., 0., 0.],\n",
              "       [1., 0., 0.],\n",
              "       [1., 0., 0.],\n",
              "       [1., 0., 0.],\n",
              "       [1., 0., 0.],\n",
              "       [1., 0., 0.],\n",
              "       [1., 0., 0.],\n",
              "       [1., 0., 0.],\n",
              "       [1., 0., 0.],\n",
              "       [1., 0., 0.],\n",
              "       [1., 0., 0.],\n",
              "       [1., 0., 0.],\n",
              "       [1., 0., 0.],\n",
              "       [1., 0., 0.],\n",
              "       [1., 0., 0.],\n",
              "       [1., 0., 0.],\n",
              "       [1., 0., 0.],\n",
              "       [1., 0., 0.],\n",
              "       [1., 0., 0.],\n",
              "       [1., 0., 0.],\n",
              "       [1., 0., 0.],\n",
              "       [1., 0., 0.],\n",
              "       [1., 0., 0.],\n",
              "       [1., 0., 0.],\n",
              "       [1., 0., 0.],\n",
              "       [1., 0., 0.],\n",
              "       [1., 0., 0.],\n",
              "       [1., 0., 0.],\n",
              "       [1., 0., 0.],\n",
              "       [1., 0., 0.],\n",
              "       [1., 0., 0.],\n",
              "       [1., 0., 0.],\n",
              "       [1., 0., 0.],\n",
              "       [1., 0., 0.],\n",
              "       [1., 0., 0.],\n",
              "       [1., 0., 0.],\n",
              "       [1., 0., 0.],\n",
              "       [1., 0., 0.],\n",
              "       [1., 0., 0.],\n",
              "       [1., 0., 0.],\n",
              "       [1., 0., 0.],\n",
              "       [1., 0., 0.],\n",
              "       [1., 0., 0.],\n",
              "       [1., 0., 0.],\n",
              "       [0., 1., 0.],\n",
              "       [0., 1., 0.],\n",
              "       [0., 1., 0.],\n",
              "       [0., 1., 0.],\n",
              "       [0., 1., 0.],\n",
              "       [0., 1., 0.],\n",
              "       [0., 1., 0.],\n",
              "       [0., 1., 0.],\n",
              "       [0., 1., 0.],\n",
              "       [0., 1., 0.],\n",
              "       [0., 1., 0.],\n",
              "       [0., 1., 0.],\n",
              "       [0., 1., 0.],\n",
              "       [0., 1., 0.],\n",
              "       [0., 1., 0.],\n",
              "       [0., 1., 0.],\n",
              "       [0., 1., 0.],\n",
              "       [0., 1., 0.],\n",
              "       [0., 1., 0.],\n",
              "       [0., 1., 0.],\n",
              "       [0., 1., 0.],\n",
              "       [0., 1., 0.],\n",
              "       [0., 1., 0.],\n",
              "       [0., 1., 0.],\n",
              "       [0., 1., 0.],\n",
              "       [0., 1., 0.],\n",
              "       [0., 1., 0.],\n",
              "       [0., 1., 0.],\n",
              "       [0., 1., 0.],\n",
              "       [0., 1., 0.],\n",
              "       [0., 1., 0.],\n",
              "       [0., 1., 0.],\n",
              "       [0., 1., 0.],\n",
              "       [0., 1., 0.],\n",
              "       [0., 1., 0.],\n",
              "       [0., 1., 0.],\n",
              "       [0., 1., 0.],\n",
              "       [0., 1., 0.],\n",
              "       [0., 1., 0.],\n",
              "       [0., 1., 0.],\n",
              "       [0., 1., 0.],\n",
              "       [0., 1., 0.],\n",
              "       [0., 1., 0.],\n",
              "       [0., 1., 0.],\n",
              "       [0., 1., 0.],\n",
              "       [0., 1., 0.],\n",
              "       [0., 1., 0.],\n",
              "       [0., 1., 0.],\n",
              "       [0., 1., 0.],\n",
              "       [0., 1., 0.],\n",
              "       [0., 0., 1.],\n",
              "       [0., 0., 1.],\n",
              "       [0., 0., 1.],\n",
              "       [0., 0., 1.],\n",
              "       [0., 0., 1.],\n",
              "       [0., 0., 1.],\n",
              "       [0., 0., 1.],\n",
              "       [0., 0., 1.],\n",
              "       [0., 0., 1.],\n",
              "       [0., 0., 1.],\n",
              "       [0., 0., 1.],\n",
              "       [0., 0., 1.],\n",
              "       [0., 0., 1.],\n",
              "       [0., 0., 1.],\n",
              "       [0., 0., 1.],\n",
              "       [0., 0., 1.],\n",
              "       [0., 0., 1.],\n",
              "       [0., 0., 1.],\n",
              "       [0., 0., 1.],\n",
              "       [0., 0., 1.],\n",
              "       [0., 0., 1.],\n",
              "       [0., 0., 1.],\n",
              "       [0., 0., 1.],\n",
              "       [0., 0., 1.],\n",
              "       [0., 0., 1.],\n",
              "       [0., 0., 1.],\n",
              "       [0., 0., 1.],\n",
              "       [0., 0., 1.],\n",
              "       [0., 0., 1.],\n",
              "       [0., 0., 1.],\n",
              "       [0., 0., 1.],\n",
              "       [0., 0., 1.],\n",
              "       [0., 0., 1.],\n",
              "       [0., 0., 1.],\n",
              "       [0., 0., 1.],\n",
              "       [0., 0., 1.],\n",
              "       [0., 0., 1.],\n",
              "       [0., 0., 1.],\n",
              "       [0., 0., 1.],\n",
              "       [0., 0., 1.],\n",
              "       [0., 0., 1.],\n",
              "       [0., 0., 1.],\n",
              "       [0., 0., 1.],\n",
              "       [0., 0., 1.],\n",
              "       [0., 0., 1.],\n",
              "       [0., 0., 1.],\n",
              "       [0., 0., 1.],\n",
              "       [0., 0., 1.],\n",
              "       [0., 0., 1.],\n",
              "       [0., 0., 1.]], dtype=float32)"
            ]
          },
          "metadata": {},
          "execution_count": 26
        }
      ]
    },
    {
      "cell_type": "code",
      "source": [
        "from sklearn.model_selection import train_test_split\n",
        "X_train,X_test,Y_train,Y_test=train_test_split(X,Y,test_size=0.2)"
      ],
      "metadata": {
        "id": "XqryfVAihk4c"
      },
      "execution_count": null,
      "outputs": []
    },
    {
      "cell_type": "code",
      "source": [
        "\n",
        "from sklearn.preprocessing import MinMaxScaler\n",
        "mm=MinMaxScaler()\n",
        "fit=mm.fit(X_train)\n",
        "X_train=fit.transform(X_train)\n",
        "X_test=fit.transform(X_test)"
      ],
      "metadata": {
        "id": "lJpqrquIGbs4"
      },
      "execution_count": null,
      "outputs": []
    },
    {
      "cell_type": "code",
      "source": [
        "X_train=X_train.reshape(X_train.shape[0],X_train.shape[1],1)\n",
        "\n",
        "X_test=X_test.reshape(X_test.shape[0],X_test.shape[1],1)\n",
        "Y_train"
      ],
      "metadata": {
        "colab": {
          "base_uri": "https://localhost:8080/"
        },
        "id": "5uCAQ2a18Z8k",
        "outputId": "8b7ea981-2bb6-452e-cb79-288f79c68098"
      },
      "execution_count": null,
      "outputs": [
        {
          "output_type": "execute_result",
          "data": {
            "text/plain": [
              "array([[1., 0., 0.],\n",
              "       [1., 0., 0.],\n",
              "       [0., 1., 0.],\n",
              "       [0., 0., 1.],\n",
              "       [1., 0., 0.],\n",
              "       [0., 0., 1.],\n",
              "       [0., 0., 1.],\n",
              "       [0., 1., 0.],\n",
              "       [0., 1., 0.],\n",
              "       [1., 0., 0.],\n",
              "       [0., 0., 1.],\n",
              "       [0., 0., 1.],\n",
              "       [0., 0., 1.],\n",
              "       [0., 1., 0.],\n",
              "       [1., 0., 0.],\n",
              "       [0., 1., 0.],\n",
              "       [0., 1., 0.],\n",
              "       [1., 0., 0.],\n",
              "       [1., 0., 0.],\n",
              "       [1., 0., 0.],\n",
              "       [0., 0., 1.],\n",
              "       [0., 1., 0.],\n",
              "       [1., 0., 0.],\n",
              "       [1., 0., 0.],\n",
              "       [0., 0., 1.],\n",
              "       [0., 1., 0.],\n",
              "       [1., 0., 0.],\n",
              "       [0., 0., 1.],\n",
              "       [0., 0., 1.],\n",
              "       [0., 1., 0.],\n",
              "       [1., 0., 0.],\n",
              "       [0., 0., 1.],\n",
              "       [0., 1., 0.],\n",
              "       [0., 1., 0.],\n",
              "       [0., 0., 1.],\n",
              "       [1., 0., 0.],\n",
              "       [0., 0., 1.],\n",
              "       [0., 0., 1.],\n",
              "       [0., 1., 0.],\n",
              "       [1., 0., 0.],\n",
              "       [0., 0., 1.],\n",
              "       [1., 0., 0.],\n",
              "       [0., 0., 1.],\n",
              "       [0., 1., 0.],\n",
              "       [0., 0., 1.],\n",
              "       [0., 1., 0.],\n",
              "       [1., 0., 0.],\n",
              "       [0., 1., 0.],\n",
              "       [0., 0., 1.],\n",
              "       [1., 0., 0.],\n",
              "       [1., 0., 0.],\n",
              "       [0., 0., 1.],\n",
              "       [1., 0., 0.],\n",
              "       [0., 0., 1.],\n",
              "       [0., 0., 1.],\n",
              "       [0., 1., 0.],\n",
              "       [0., 0., 1.],\n",
              "       [0., 1., 0.],\n",
              "       [1., 0., 0.],\n",
              "       [0., 0., 1.],\n",
              "       [1., 0., 0.],\n",
              "       [0., 1., 0.],\n",
              "       [0., 0., 1.],\n",
              "       [0., 0., 1.],\n",
              "       [0., 1., 0.],\n",
              "       [0., 1., 0.],\n",
              "       [0., 0., 1.],\n",
              "       [0., 0., 1.],\n",
              "       [0., 1., 0.],\n",
              "       [0., 0., 1.],\n",
              "       [0., 1., 0.],\n",
              "       [1., 0., 0.],\n",
              "       [0., 1., 0.],\n",
              "       [0., 0., 1.],\n",
              "       [1., 0., 0.],\n",
              "       [0., 1., 0.],\n",
              "       [0., 1., 0.],\n",
              "       [1., 0., 0.],\n",
              "       [0., 0., 1.],\n",
              "       [1., 0., 0.],\n",
              "       [1., 0., 0.],\n",
              "       [0., 0., 1.],\n",
              "       [0., 1., 0.],\n",
              "       [0., 0., 1.],\n",
              "       [0., 1., 0.],\n",
              "       [0., 1., 0.],\n",
              "       [1., 0., 0.],\n",
              "       [1., 0., 0.],\n",
              "       [1., 0., 0.],\n",
              "       [1., 0., 0.],\n",
              "       [1., 0., 0.],\n",
              "       [0., 1., 0.],\n",
              "       [0., 1., 0.],\n",
              "       [0., 0., 1.],\n",
              "       [1., 0., 0.],\n",
              "       [0., 0., 1.],\n",
              "       [0., 1., 0.],\n",
              "       [0., 1., 0.],\n",
              "       [0., 0., 1.],\n",
              "       [1., 0., 0.],\n",
              "       [0., 1., 0.],\n",
              "       [0., 0., 1.],\n",
              "       [1., 0., 0.],\n",
              "       [0., 0., 1.],\n",
              "       [0., 0., 1.],\n",
              "       [0., 1., 0.],\n",
              "       [1., 0., 0.],\n",
              "       [1., 0., 0.],\n",
              "       [0., 0., 1.],\n",
              "       [0., 0., 1.],\n",
              "       [1., 0., 0.],\n",
              "       [0., 0., 1.],\n",
              "       [0., 1., 0.],\n",
              "       [1., 0., 0.],\n",
              "       [0., 1., 0.],\n",
              "       [1., 0., 0.],\n",
              "       [0., 1., 0.],\n",
              "       [0., 1., 0.],\n",
              "       [1., 0., 0.],\n",
              "       [1., 0., 0.]], dtype=float32)"
            ]
          },
          "metadata": {},
          "execution_count": 31
        }
      ]
    },
    {
      "cell_type": "code",
      "source": [
        "from keras.layers import Dense, Conv1D, Flatten, MaxPooling1D\n",
        "from keras import Sequential\n",
        "model = Sequential()\n",
        "model.add(Conv1D(500, 6, activation=\"relu\",padding='Same', input_shape=(4,1)))\n",
        "\n",
        "\n",
        "model.add(MaxPooling1D())\n",
        "model.add(Flatten())\n",
        "model.add(Dense(1000, activation=\"sigmoid\"))\n",
        "#model.add(Dense(800, activation=\"softmax\"))\n",
        "model.add(Dense(500, activation=\"sigmoid\"))\n",
        "model.add(Dense(100, activation=\"sigmoid\"))\n",
        "model.add(Dense(3))"
      ],
      "metadata": {
        "id": "16BqpIzL88Qf"
      },
      "execution_count": null,
      "outputs": []
    },
    {
      "cell_type": "code",
      "source": [
        "import tensorflow as tf\n",
        "\n",
        "opt=tf.keras.optimizers.RMSprop(learning_rate=0.01)\n",
        "model.compile(loss='binary_crossentropy',optimizer=opt,metrics=['Accuracy'])\n",
        "history=model.fit(X_train,Y_train,epochs=50,batch_size=32,verbose=1,validation_data=(X_test,Y_test))"
      ],
      "metadata": {
        "colab": {
          "base_uri": "https://localhost:8080/"
        },
        "id": "Wd2rC4IF-VPd",
        "outputId": "a0293640-4a74-467d-a308-40cae73f3db8"
      },
      "execution_count": null,
      "outputs": [
        {
          "output_type": "stream",
          "name": "stdout",
          "text": [
            "Epoch 1/50\n",
            "4/4 [==============================] - 1s 107ms/step - loss: 4.3967 - Accuracy: 0.3083 - val_loss: 5.1416 - val_Accuracy: 0.4000\n",
            "Epoch 2/50\n",
            "4/4 [==============================] - 0s 40ms/step - loss: 5.1416 - Accuracy: 0.3167 - val_loss: 5.1416 - val_Accuracy: 0.4000\n",
            "Epoch 3/50\n",
            "4/4 [==============================] - 0s 42ms/step - loss: 5.1416 - Accuracy: 0.3167 - val_loss: 5.1416 - val_Accuracy: 0.4000\n",
            "Epoch 4/50\n",
            "4/4 [==============================] - 0s 35ms/step - loss: 5.1416 - Accuracy: 0.3167 - val_loss: 5.1416 - val_Accuracy: 0.4000\n",
            "Epoch 5/50\n",
            "4/4 [==============================] - 0s 35ms/step - loss: 5.1416 - Accuracy: 0.3167 - val_loss: 5.1416 - val_Accuracy: 0.4000\n",
            "Epoch 6/50\n",
            "4/4 [==============================] - 0s 37ms/step - loss: 5.1416 - Accuracy: 0.3167 - val_loss: 5.1416 - val_Accuracy: 0.4000\n",
            "Epoch 7/50\n",
            "4/4 [==============================] - 0s 37ms/step - loss: 5.1416 - Accuracy: 0.3167 - val_loss: 5.1416 - val_Accuracy: 0.4000\n",
            "Epoch 8/50\n",
            "4/4 [==============================] - 0s 36ms/step - loss: 5.1416 - Accuracy: 0.3167 - val_loss: 5.1416 - val_Accuracy: 0.4000\n",
            "Epoch 9/50\n",
            "4/4 [==============================] - 0s 37ms/step - loss: 5.1416 - Accuracy: 0.3167 - val_loss: 5.1416 - val_Accuracy: 0.4000\n",
            "Epoch 10/50\n",
            "4/4 [==============================] - 0s 41ms/step - loss: 5.1416 - Accuracy: 0.3167 - val_loss: 5.1416 - val_Accuracy: 0.4000\n",
            "Epoch 11/50\n",
            "4/4 [==============================] - 0s 35ms/step - loss: 5.1416 - Accuracy: 0.3167 - val_loss: 5.1416 - val_Accuracy: 0.4000\n",
            "Epoch 12/50\n",
            "4/4 [==============================] - 0s 35ms/step - loss: 5.1416 - Accuracy: 0.3167 - val_loss: 5.1416 - val_Accuracy: 0.4000\n",
            "Epoch 13/50\n",
            "4/4 [==============================] - 0s 34ms/step - loss: 5.1416 - Accuracy: 0.3167 - val_loss: 5.1416 - val_Accuracy: 0.4000\n",
            "Epoch 14/50\n",
            "4/4 [==============================] - 0s 38ms/step - loss: 5.1416 - Accuracy: 0.3167 - val_loss: 5.1416 - val_Accuracy: 0.4000\n",
            "Epoch 15/50\n",
            "4/4 [==============================] - 0s 39ms/step - loss: 5.1416 - Accuracy: 0.3167 - val_loss: 5.1416 - val_Accuracy: 0.4000\n",
            "Epoch 16/50\n",
            "4/4 [==============================] - 0s 37ms/step - loss: 5.1416 - Accuracy: 0.3167 - val_loss: 5.1416 - val_Accuracy: 0.4000\n",
            "Epoch 17/50\n",
            "4/4 [==============================] - 0s 39ms/step - loss: 5.1416 - Accuracy: 0.3167 - val_loss: 5.1416 - val_Accuracy: 0.4000\n",
            "Epoch 18/50\n",
            "4/4 [==============================] - 0s 35ms/step - loss: 5.1416 - Accuracy: 0.3167 - val_loss: 5.1416 - val_Accuracy: 0.4000\n",
            "Epoch 19/50\n",
            "4/4 [==============================] - 0s 36ms/step - loss: 5.1416 - Accuracy: 0.3167 - val_loss: 5.1416 - val_Accuracy: 0.4000\n",
            "Epoch 20/50\n",
            "4/4 [==============================] - 0s 36ms/step - loss: 5.1416 - Accuracy: 0.3167 - val_loss: 5.1416 - val_Accuracy: 0.4000\n",
            "Epoch 21/50\n",
            "4/4 [==============================] - 0s 34ms/step - loss: 5.1416 - Accuracy: 0.3167 - val_loss: 5.1416 - val_Accuracy: 0.4000\n",
            "Epoch 22/50\n",
            "4/4 [==============================] - 0s 36ms/step - loss: 5.1416 - Accuracy: 0.3167 - val_loss: 5.1416 - val_Accuracy: 0.4000\n",
            "Epoch 23/50\n",
            "4/4 [==============================] - 0s 38ms/step - loss: 5.1416 - Accuracy: 0.3167 - val_loss: 5.1416 - val_Accuracy: 0.4000\n",
            "Epoch 24/50\n",
            "4/4 [==============================] - 0s 58ms/step - loss: 5.1416 - Accuracy: 0.3167 - val_loss: 5.1416 - val_Accuracy: 0.4000\n",
            "Epoch 25/50\n",
            "4/4 [==============================] - 0s 59ms/step - loss: 5.1416 - Accuracy: 0.3167 - val_loss: 5.1416 - val_Accuracy: 0.4000\n",
            "Epoch 26/50\n",
            "4/4 [==============================] - 0s 58ms/step - loss: 5.1416 - Accuracy: 0.3167 - val_loss: 5.1416 - val_Accuracy: 0.4000\n",
            "Epoch 27/50\n",
            "4/4 [==============================] - 0s 59ms/step - loss: 5.1416 - Accuracy: 0.3167 - val_loss: 5.1416 - val_Accuracy: 0.4000\n",
            "Epoch 28/50\n",
            "4/4 [==============================] - 0s 59ms/step - loss: 5.1416 - Accuracy: 0.3167 - val_loss: 5.1416 - val_Accuracy: 0.4000\n",
            "Epoch 29/50\n",
            "4/4 [==============================] - 0s 61ms/step - loss: 5.1416 - Accuracy: 0.3167 - val_loss: 5.1416 - val_Accuracy: 0.4000\n",
            "Epoch 30/50\n",
            "4/4 [==============================] - 0s 61ms/step - loss: 5.1416 - Accuracy: 0.3167 - val_loss: 5.1416 - val_Accuracy: 0.4000\n",
            "Epoch 31/50\n",
            "4/4 [==============================] - 0s 54ms/step - loss: 5.1416 - Accuracy: 0.3167 - val_loss: 5.1416 - val_Accuracy: 0.4000\n",
            "Epoch 32/50\n",
            "4/4 [==============================] - 0s 56ms/step - loss: 5.1416 - Accuracy: 0.3167 - val_loss: 5.1416 - val_Accuracy: 0.4000\n",
            "Epoch 33/50\n",
            "4/4 [==============================] - 0s 54ms/step - loss: 5.1416 - Accuracy: 0.3167 - val_loss: 5.1416 - val_Accuracy: 0.4000\n",
            "Epoch 34/50\n",
            "4/4 [==============================] - 0s 62ms/step - loss: 5.1416 - Accuracy: 0.3167 - val_loss: 5.1416 - val_Accuracy: 0.4000\n",
            "Epoch 35/50\n",
            "4/4 [==============================] - 0s 58ms/step - loss: 5.1416 - Accuracy: 0.3167 - val_loss: 5.1416 - val_Accuracy: 0.4000\n",
            "Epoch 36/50\n",
            "4/4 [==============================] - 0s 58ms/step - loss: 5.1416 - Accuracy: 0.3167 - val_loss: 5.1416 - val_Accuracy: 0.4000\n",
            "Epoch 37/50\n",
            "4/4 [==============================] - 0s 37ms/step - loss: 5.1416 - Accuracy: 0.3167 - val_loss: 5.1416 - val_Accuracy: 0.4000\n",
            "Epoch 38/50\n",
            "4/4 [==============================] - 0s 40ms/step - loss: 5.1416 - Accuracy: 0.3167 - val_loss: 5.1416 - val_Accuracy: 0.4000\n",
            "Epoch 39/50\n",
            "4/4 [==============================] - 0s 42ms/step - loss: 5.1416 - Accuracy: 0.3167 - val_loss: 5.1416 - val_Accuracy: 0.4000\n",
            "Epoch 40/50\n",
            "4/4 [==============================] - 0s 35ms/step - loss: 5.1416 - Accuracy: 0.3167 - val_loss: 5.1416 - val_Accuracy: 0.4000\n",
            "Epoch 41/50\n",
            "4/4 [==============================] - 0s 34ms/step - loss: 5.1416 - Accuracy: 0.3167 - val_loss: 5.1416 - val_Accuracy: 0.4000\n",
            "Epoch 42/50\n",
            "4/4 [==============================] - 0s 34ms/step - loss: 5.1416 - Accuracy: 0.3167 - val_loss: 5.1416 - val_Accuracy: 0.4000\n",
            "Epoch 43/50\n",
            "4/4 [==============================] - 0s 36ms/step - loss: 5.1416 - Accuracy: 0.3167 - val_loss: 5.1416 - val_Accuracy: 0.4000\n",
            "Epoch 44/50\n",
            "4/4 [==============================] - 0s 35ms/step - loss: 5.1416 - Accuracy: 0.3167 - val_loss: 5.1416 - val_Accuracy: 0.4000\n",
            "Epoch 45/50\n",
            "4/4 [==============================] - 0s 37ms/step - loss: 5.1416 - Accuracy: 0.3167 - val_loss: 5.1416 - val_Accuracy: 0.4000\n",
            "Epoch 46/50\n",
            "4/4 [==============================] - 0s 39ms/step - loss: 5.1416 - Accuracy: 0.3167 - val_loss: 5.1416 - val_Accuracy: 0.4000\n",
            "Epoch 47/50\n",
            "4/4 [==============================] - 0s 37ms/step - loss: 5.1416 - Accuracy: 0.3167 - val_loss: 5.1416 - val_Accuracy: 0.4000\n",
            "Epoch 48/50\n",
            "4/4 [==============================] - 0s 79ms/step - loss: 5.1416 - Accuracy: 0.3167 - val_loss: 5.1416 - val_Accuracy: 0.4000\n",
            "Epoch 49/50\n",
            "4/4 [==============================] - 0s 67ms/step - loss: 5.1416 - Accuracy: 0.3167 - val_loss: 5.1416 - val_Accuracy: 0.4000\n",
            "Epoch 50/50\n",
            "4/4 [==============================] - 0s 38ms/step - loss: 5.1416 - Accuracy: 0.3167 - val_loss: 5.1416 - val_Accuracy: 0.4000\n"
          ]
        }
      ]
    },
    {
      "cell_type": "code",
      "source": [
        "from keras import Sequential\n",
        "from keras.layers import Dense, Conv1D, Flatten, MaxPooling1D\n",
        "model = Sequential()\n",
        "model.add(Dense(10,activation='relu',input_shape=(4,)))\n",
        "model.add(Dense(10, activation='relu'))\n",
        "model.add(Dense(10, activation='relu'))\n",
        "model.add(Dense(3,activation='softmax'))"
      ],
      "metadata": {
        "id": "Drob8KwqEW4L"
      },
      "execution_count": null,
      "outputs": []
    },
    {
      "cell_type": "code",
      "source": [
        "model.compile(optimizer='rmsprop',\n",
        "              loss='categorical_crossentropy',\n",
        "              metrics=['accuracy'])"
      ],
      "metadata": {
        "id": "MAafDnmkErNk"
      },
      "execution_count": null,
      "outputs": []
    },
    {
      "cell_type": "code",
      "source": [
        "history=model.fit(X_train, Y_train, batch_size=50, epochs=100,validation_data=(X_test,Y_test))"
      ],
      "metadata": {
        "colab": {
          "base_uri": "https://localhost:8080/"
        },
        "id": "PNpH2GGIGHrk",
        "outputId": "5ed517a0-7582-47e0-9929-39d47e677f4b"
      },
      "execution_count": null,
      "outputs": [
        {
          "output_type": "stream",
          "name": "stdout",
          "text": [
            "Epoch 1/100\n",
            "3/3 [==============================] - 0s 42ms/step - loss: 0.1210 - accuracy: 0.9833 - val_loss: 0.1010 - val_accuracy: 1.0000\n",
            "Epoch 2/100\n",
            "3/3 [==============================] - 0s 32ms/step - loss: 0.1180 - accuracy: 0.9667 - val_loss: 0.1188 - val_accuracy: 0.9667\n",
            "Epoch 3/100\n",
            "3/3 [==============================] - 0s 31ms/step - loss: 0.1169 - accuracy: 0.9917 - val_loss: 0.1312 - val_accuracy: 0.9333\n",
            "Epoch 4/100\n",
            "3/3 [==============================] - 0s 29ms/step - loss: 0.1162 - accuracy: 0.9917 - val_loss: 0.1282 - val_accuracy: 0.9333\n",
            "Epoch 5/100\n",
            "3/3 [==============================] - 0s 38ms/step - loss: 0.1155 - accuracy: 0.9917 - val_loss: 0.1086 - val_accuracy: 0.9667\n",
            "Epoch 6/100\n",
            "3/3 [==============================] - 0s 33ms/step - loss: 0.1131 - accuracy: 0.9833 - val_loss: 0.1271 - val_accuracy: 0.9333\n",
            "Epoch 7/100\n",
            "3/3 [==============================] - 0s 27ms/step - loss: 0.1167 - accuracy: 0.9833 - val_loss: 0.1412 - val_accuracy: 0.9333\n",
            "Epoch 8/100\n",
            "3/3 [==============================] - 0s 38ms/step - loss: 0.1133 - accuracy: 0.9750 - val_loss: 0.1091 - val_accuracy: 0.9667\n",
            "Epoch 9/100\n",
            "3/3 [==============================] - 0s 33ms/step - loss: 0.1093 - accuracy: 0.9833 - val_loss: 0.1073 - val_accuracy: 0.9667\n",
            "Epoch 10/100\n",
            "3/3 [==============================] - 0s 33ms/step - loss: 0.1083 - accuracy: 0.9833 - val_loss: 0.1069 - val_accuracy: 0.9667\n",
            "Epoch 11/100\n",
            "3/3 [==============================] - 0s 25ms/step - loss: 0.1133 - accuracy: 0.9667 - val_loss: 0.1162 - val_accuracy: 0.9667\n",
            "Epoch 12/100\n",
            "3/3 [==============================] - 0s 34ms/step - loss: 0.1063 - accuracy: 0.9917 - val_loss: 0.1021 - val_accuracy: 0.9667\n",
            "Epoch 13/100\n",
            "3/3 [==============================] - 0s 43ms/step - loss: 0.1054 - accuracy: 0.9750 - val_loss: 0.1300 - val_accuracy: 0.9333\n",
            "Epoch 14/100\n",
            "3/3 [==============================] - 0s 38ms/step - loss: 0.1067 - accuracy: 0.9917 - val_loss: 0.0981 - val_accuracy: 0.9667\n",
            "Epoch 15/100\n",
            "3/3 [==============================] - 0s 44ms/step - loss: 0.1073 - accuracy: 0.9833 - val_loss: 0.0891 - val_accuracy: 1.0000\n",
            "Epoch 16/100\n",
            "3/3 [==============================] - 0s 25ms/step - loss: 0.1085 - accuracy: 0.9667 - val_loss: 0.1037 - val_accuracy: 0.9667\n",
            "Epoch 17/100\n",
            "3/3 [==============================] - 0s 36ms/step - loss: 0.1018 - accuracy: 0.9833 - val_loss: 0.1008 - val_accuracy: 0.9667\n",
            "Epoch 18/100\n",
            "3/3 [==============================] - 0s 41ms/step - loss: 0.1011 - accuracy: 0.9917 - val_loss: 0.1068 - val_accuracy: 0.9667\n",
            "Epoch 19/100\n",
            "3/3 [==============================] - 0s 36ms/step - loss: 0.1007 - accuracy: 0.9833 - val_loss: 0.1075 - val_accuracy: 0.9667\n",
            "Epoch 20/100\n",
            "3/3 [==============================] - 0s 24ms/step - loss: 0.0999 - accuracy: 0.9917 - val_loss: 0.1004 - val_accuracy: 0.9667\n",
            "Epoch 21/100\n",
            "3/3 [==============================] - 0s 37ms/step - loss: 0.0993 - accuracy: 0.9833 - val_loss: 0.0880 - val_accuracy: 0.9667\n",
            "Epoch 22/100\n",
            "3/3 [==============================] - 0s 37ms/step - loss: 0.1062 - accuracy: 0.9750 - val_loss: 0.1170 - val_accuracy: 0.9333\n",
            "Epoch 23/100\n",
            "3/3 [==============================] - 0s 25ms/step - loss: 0.0972 - accuracy: 0.9917 - val_loss: 0.0954 - val_accuracy: 0.9667\n",
            "Epoch 24/100\n",
            "3/3 [==============================] - 0s 29ms/step - loss: 0.1030 - accuracy: 0.9750 - val_loss: 0.0882 - val_accuracy: 0.9667\n",
            "Epoch 25/100\n",
            "3/3 [==============================] - 0s 37ms/step - loss: 0.0993 - accuracy: 0.9833 - val_loss: 0.1016 - val_accuracy: 0.9667\n",
            "Epoch 26/100\n",
            "3/3 [==============================] - 0s 41ms/step - loss: 0.0950 - accuracy: 0.9917 - val_loss: 0.0910 - val_accuracy: 0.9667\n",
            "Epoch 27/100\n",
            "3/3 [==============================] - 0s 34ms/step - loss: 0.0981 - accuracy: 0.9667 - val_loss: 0.1264 - val_accuracy: 0.9333\n",
            "Epoch 28/100\n",
            "3/3 [==============================] - 0s 43ms/step - loss: 0.0958 - accuracy: 0.9917 - val_loss: 0.0894 - val_accuracy: 0.9667\n",
            "Epoch 29/100\n",
            "3/3 [==============================] - 0s 38ms/step - loss: 0.0949 - accuracy: 0.9750 - val_loss: 0.0864 - val_accuracy: 0.9667\n",
            "Epoch 30/100\n",
            "3/3 [==============================] - 0s 33ms/step - loss: 0.0953 - accuracy: 0.9833 - val_loss: 0.1017 - val_accuracy: 0.9667\n",
            "Epoch 31/100\n",
            "3/3 [==============================] - 0s 32ms/step - loss: 0.0915 - accuracy: 0.9917 - val_loss: 0.0953 - val_accuracy: 0.9667\n",
            "Epoch 32/100\n",
            "3/3 [==============================] - 0s 25ms/step - loss: 0.0981 - accuracy: 0.9750 - val_loss: 0.0990 - val_accuracy: 0.9667\n",
            "Epoch 33/100\n",
            "3/3 [==============================] - 0s 28ms/step - loss: 0.0907 - accuracy: 0.9750 - val_loss: 0.1165 - val_accuracy: 0.9333\n",
            "Epoch 34/100\n",
            "3/3 [==============================] - 0s 37ms/step - loss: 0.0916 - accuracy: 0.9917 - val_loss: 0.1050 - val_accuracy: 0.9667\n",
            "Epoch 35/100\n",
            "3/3 [==============================] - 0s 29ms/step - loss: 0.0902 - accuracy: 0.9917 - val_loss: 0.0910 - val_accuracy: 0.9667\n",
            "Epoch 36/100\n",
            "3/3 [==============================] - 0s 40ms/step - loss: 0.0911 - accuracy: 0.9833 - val_loss: 0.0775 - val_accuracy: 1.0000\n",
            "Epoch 37/100\n",
            "3/3 [==============================] - 0s 40ms/step - loss: 0.0936 - accuracy: 0.9667 - val_loss: 0.0882 - val_accuracy: 0.9667\n",
            "Epoch 38/100\n",
            "3/3 [==============================] - 0s 38ms/step - loss: 0.0896 - accuracy: 0.9750 - val_loss: 0.1173 - val_accuracy: 0.9333\n",
            "Epoch 39/100\n",
            "3/3 [==============================] - 0s 46ms/step - loss: 0.0899 - accuracy: 0.9917 - val_loss: 0.0991 - val_accuracy: 0.9667\n",
            "Epoch 40/100\n",
            "3/3 [==============================] - 0s 26ms/step - loss: 0.0874 - accuracy: 0.9917 - val_loss: 0.0964 - val_accuracy: 0.9667\n",
            "Epoch 41/100\n",
            "3/3 [==============================] - 0s 25ms/step - loss: 0.0856 - accuracy: 0.9833 - val_loss: 0.1026 - val_accuracy: 0.9667\n",
            "Epoch 42/100\n",
            "3/3 [==============================] - 0s 42ms/step - loss: 0.0856 - accuracy: 0.9917 - val_loss: 0.1191 - val_accuracy: 0.9333\n",
            "Epoch 43/100\n",
            "3/3 [==============================] - 0s 21ms/step - loss: 0.0858 - accuracy: 0.9917 - val_loss: 0.0912 - val_accuracy: 0.9667\n",
            "Epoch 44/100\n",
            "3/3 [==============================] - 0s 23ms/step - loss: 0.0842 - accuracy: 0.9833 - val_loss: 0.0857 - val_accuracy: 0.9667\n",
            "Epoch 45/100\n",
            "3/3 [==============================] - 0s 20ms/step - loss: 0.0828 - accuracy: 0.9833 - val_loss: 0.1184 - val_accuracy: 0.9333\n",
            "Epoch 46/100\n",
            "3/3 [==============================] - 0s 23ms/step - loss: 0.0923 - accuracy: 0.9833 - val_loss: 0.0814 - val_accuracy: 0.9667\n",
            "Epoch 47/100\n",
            "3/3 [==============================] - 0s 29ms/step - loss: 0.0845 - accuracy: 0.9833 - val_loss: 0.0792 - val_accuracy: 0.9667\n",
            "Epoch 48/100\n",
            "3/3 [==============================] - 0s 21ms/step - loss: 0.0837 - accuracy: 0.9750 - val_loss: 0.0826 - val_accuracy: 0.9667\n",
            "Epoch 49/100\n",
            "3/3 [==============================] - 0s 21ms/step - loss: 0.0841 - accuracy: 0.9750 - val_loss: 0.0827 - val_accuracy: 0.9667\n",
            "Epoch 50/100\n",
            "3/3 [==============================] - 0s 22ms/step - loss: 0.0809 - accuracy: 0.9833 - val_loss: 0.0852 - val_accuracy: 0.9667\n",
            "Epoch 51/100\n",
            "3/3 [==============================] - 0s 19ms/step - loss: 0.0801 - accuracy: 0.9750 - val_loss: 0.1232 - val_accuracy: 0.9333\n",
            "Epoch 52/100\n",
            "3/3 [==============================] - 0s 20ms/step - loss: 0.0827 - accuracy: 0.9917 - val_loss: 0.1095 - val_accuracy: 0.9333\n",
            "Epoch 53/100\n",
            "3/3 [==============================] - 0s 21ms/step - loss: 0.0832 - accuracy: 0.9833 - val_loss: 0.1301 - val_accuracy: 0.9333\n",
            "Epoch 54/100\n",
            "3/3 [==============================] - 0s 20ms/step - loss: 0.0837 - accuracy: 0.9917 - val_loss: 0.1151 - val_accuracy: 0.9333\n",
            "Epoch 55/100\n",
            "3/3 [==============================] - 0s 20ms/step - loss: 0.0818 - accuracy: 0.9917 - val_loss: 0.1133 - val_accuracy: 0.9333\n",
            "Epoch 56/100\n",
            "3/3 [==============================] - 0s 24ms/step - loss: 0.0802 - accuracy: 0.9917 - val_loss: 0.1150 - val_accuracy: 0.9333\n",
            "Epoch 57/100\n",
            "3/3 [==============================] - 0s 19ms/step - loss: 0.0796 - accuracy: 0.9917 - val_loss: 0.0849 - val_accuracy: 0.9667\n",
            "Epoch 58/100\n",
            "3/3 [==============================] - 0s 25ms/step - loss: 0.0769 - accuracy: 0.9750 - val_loss: 0.0956 - val_accuracy: 0.9667\n",
            "Epoch 59/100\n",
            "3/3 [==============================] - 0s 25ms/step - loss: 0.0764 - accuracy: 0.9833 - val_loss: 0.0987 - val_accuracy: 0.9667\n",
            "Epoch 60/100\n",
            "3/3 [==============================] - 0s 20ms/step - loss: 0.0761 - accuracy: 0.9917 - val_loss: 0.1048 - val_accuracy: 0.9667\n",
            "Epoch 61/100\n",
            "3/3 [==============================] - 0s 21ms/step - loss: 0.0795 - accuracy: 0.9833 - val_loss: 0.0758 - val_accuracy: 0.9667\n",
            "Epoch 62/100\n",
            "3/3 [==============================] - 0s 20ms/step - loss: 0.0814 - accuracy: 0.9750 - val_loss: 0.0845 - val_accuracy: 0.9667\n",
            "Epoch 63/100\n",
            "3/3 [==============================] - 0s 23ms/step - loss: 0.0748 - accuracy: 0.9833 - val_loss: 0.1114 - val_accuracy: 0.9333\n",
            "Epoch 64/100\n",
            "3/3 [==============================] - 0s 23ms/step - loss: 0.0750 - accuracy: 0.9917 - val_loss: 0.0888 - val_accuracy: 0.9667\n",
            "Epoch 65/100\n",
            "3/3 [==============================] - 0s 21ms/step - loss: 0.0735 - accuracy: 0.9917 - val_loss: 0.0851 - val_accuracy: 0.9667\n",
            "Epoch 66/100\n",
            "3/3 [==============================] - 0s 19ms/step - loss: 0.0752 - accuracy: 0.9750 - val_loss: 0.1007 - val_accuracy: 0.9667\n",
            "Epoch 67/100\n",
            "3/3 [==============================] - 0s 23ms/step - loss: 0.0752 - accuracy: 0.9917 - val_loss: 0.0725 - val_accuracy: 0.9667\n",
            "Epoch 68/100\n",
            "3/3 [==============================] - 0s 20ms/step - loss: 0.0744 - accuracy: 0.9750 - val_loss: 0.0954 - val_accuracy: 0.9667\n",
            "Epoch 69/100\n",
            "3/3 [==============================] - 0s 46ms/step - loss: 0.0775 - accuracy: 0.9833 - val_loss: 0.0929 - val_accuracy: 0.9667\n",
            "Epoch 70/100\n",
            "3/3 [==============================] - 0s 24ms/step - loss: 0.0727 - accuracy: 0.9833 - val_loss: 0.1128 - val_accuracy: 0.9333\n",
            "Epoch 71/100\n",
            "3/3 [==============================] - 0s 23ms/step - loss: 0.0734 - accuracy: 0.9917 - val_loss: 0.1027 - val_accuracy: 0.9667\n",
            "Epoch 72/100\n",
            "3/3 [==============================] - 0s 36ms/step - loss: 0.0715 - accuracy: 0.9917 - val_loss: 0.0938 - val_accuracy: 0.9667\n",
            "Epoch 73/100\n",
            "3/3 [==============================] - 0s 20ms/step - loss: 0.0712 - accuracy: 0.9833 - val_loss: 0.0903 - val_accuracy: 0.9667\n",
            "Epoch 74/100\n",
            "3/3 [==============================] - 0s 20ms/step - loss: 0.0696 - accuracy: 0.9917 - val_loss: 0.1032 - val_accuracy: 0.9667\n",
            "Epoch 75/100\n",
            "3/3 [==============================] - 0s 24ms/step - loss: 0.0709 - accuracy: 0.9917 - val_loss: 0.1024 - val_accuracy: 0.9667\n",
            "Epoch 76/100\n",
            "3/3 [==============================] - 0s 22ms/step - loss: 0.0705 - accuracy: 0.9833 - val_loss: 0.1293 - val_accuracy: 0.9000\n",
            "Epoch 77/100\n",
            "3/3 [==============================] - 0s 20ms/step - loss: 0.0726 - accuracy: 0.9833 - val_loss: 0.0951 - val_accuracy: 0.9667\n",
            "Epoch 78/100\n",
            "3/3 [==============================] - 0s 22ms/step - loss: 0.0680 - accuracy: 0.9917 - val_loss: 0.1060 - val_accuracy: 0.9333\n",
            "Epoch 79/100\n",
            "3/3 [==============================] - 0s 23ms/step - loss: 0.0701 - accuracy: 0.9917 - val_loss: 0.1007 - val_accuracy: 0.9667\n",
            "Epoch 80/100\n",
            "3/3 [==============================] - 0s 19ms/step - loss: 0.0693 - accuracy: 0.9917 - val_loss: 0.1043 - val_accuracy: 0.9667\n",
            "Epoch 81/100\n",
            "3/3 [==============================] - 0s 23ms/step - loss: 0.0697 - accuracy: 0.9833 - val_loss: 0.1052 - val_accuracy: 0.9333\n",
            "Epoch 82/100\n",
            "3/3 [==============================] - 0s 21ms/step - loss: 0.0752 - accuracy: 0.9917 - val_loss: 0.1012 - val_accuracy: 0.9667\n",
            "Epoch 83/100\n",
            "3/3 [==============================] - 0s 19ms/step - loss: 0.0660 - accuracy: 0.9917 - val_loss: 0.0791 - val_accuracy: 0.9667\n",
            "Epoch 84/100\n",
            "3/3 [==============================] - 0s 22ms/step - loss: 0.0677 - accuracy: 0.9833 - val_loss: 0.0756 - val_accuracy: 0.9667\n",
            "Epoch 85/100\n",
            "3/3 [==============================] - 0s 23ms/step - loss: 0.0662 - accuracy: 0.9750 - val_loss: 0.1071 - val_accuracy: 0.9333\n",
            "Epoch 86/100\n",
            "3/3 [==============================] - 0s 21ms/step - loss: 0.0670 - accuracy: 0.9917 - val_loss: 0.1070 - val_accuracy: 0.9333\n",
            "Epoch 87/100\n",
            "3/3 [==============================] - 0s 21ms/step - loss: 0.0687 - accuracy: 0.9917 - val_loss: 0.1102 - val_accuracy: 0.9333\n",
            "Epoch 88/100\n",
            "3/3 [==============================] - 0s 19ms/step - loss: 0.0652 - accuracy: 0.9917 - val_loss: 0.0768 - val_accuracy: 0.9667\n",
            "Epoch 89/100\n",
            "3/3 [==============================] - 0s 20ms/step - loss: 0.0644 - accuracy: 0.9833 - val_loss: 0.1109 - val_accuracy: 0.9333\n",
            "Epoch 90/100\n",
            "3/3 [==============================] - 0s 21ms/step - loss: 0.0678 - accuracy: 0.9917 - val_loss: 0.0981 - val_accuracy: 0.9667\n",
            "Epoch 91/100\n",
            "3/3 [==============================] - 0s 21ms/step - loss: 0.0634 - accuracy: 0.9917 - val_loss: 0.0975 - val_accuracy: 0.9667\n",
            "Epoch 92/100\n",
            "3/3 [==============================] - 0s 19ms/step - loss: 0.0630 - accuracy: 0.9917 - val_loss: 0.0870 - val_accuracy: 0.9667\n",
            "Epoch 93/100\n",
            "3/3 [==============================] - 0s 22ms/step - loss: 0.0667 - accuracy: 0.9917 - val_loss: 0.0754 - val_accuracy: 0.9667\n",
            "Epoch 94/100\n",
            "3/3 [==============================] - 0s 22ms/step - loss: 0.0626 - accuracy: 0.9833 - val_loss: 0.0762 - val_accuracy: 0.9667\n",
            "Epoch 95/100\n",
            "3/3 [==============================] - 0s 23ms/step - loss: 0.0618 - accuracy: 0.9833 - val_loss: 0.0979 - val_accuracy: 0.9667\n",
            "Epoch 96/100\n",
            "3/3 [==============================] - 0s 20ms/step - loss: 0.0634 - accuracy: 0.9833 - val_loss: 0.0534 - val_accuracy: 1.0000\n",
            "Epoch 97/100\n",
            "3/3 [==============================] - 0s 22ms/step - loss: 0.0681 - accuracy: 0.9667 - val_loss: 0.0807 - val_accuracy: 0.9667\n",
            "Epoch 98/100\n",
            "3/3 [==============================] - 0s 36ms/step - loss: 0.0605 - accuracy: 0.9917 - val_loss: 0.0863 - val_accuracy: 0.9667\n",
            "Epoch 99/100\n",
            "3/3 [==============================] - 0s 22ms/step - loss: 0.0602 - accuracy: 0.9917 - val_loss: 0.0801 - val_accuracy: 0.9667\n",
            "Epoch 100/100\n",
            "3/3 [==============================] - 0s 23ms/step - loss: 0.0611 - accuracy: 0.9917 - val_loss: 0.0883 - val_accuracy: 0.9667\n"
          ]
        }
      ]
    },
    {
      "cell_type": "code",
      "source": [
        "import matplotlib.pyplot as plt\n",
        "plt.plot(history.history['accuracy'])\n",
        "plt.plot(history.history['val_accuracy'])\n",
        "plt.title('model accuracy')\n",
        "plt.ylabel('accuracy')\n",
        "plt.xlabel('epoch')\n",
        "plt.legend(['train', 'test'], loc='upper left')\n",
        "plt.show()"
      ],
      "metadata": {
        "colab": {
          "base_uri": "https://localhost:8080/",
          "height": 295
        },
        "id": "l4W2Go0rafAQ",
        "outputId": "d1433375-9e28-4847-8f5b-b193d375fd43"
      },
      "execution_count": null,
      "outputs": [
        {
          "output_type": "display_data",
          "data": {
            "text/plain": [
              "<Figure size 432x288 with 1 Axes>"
            ],
            "image/png": "[encoded data removed]"
          },
          "metadata": {
            "needs_background": "light"
          }
        }
      ]
    },
    {
      "cell_type": "code",
      "source": [
        "Y_pred = model.predict(X_test)\n",
        "#Y_pred=Y_pred>0.5"
      ],
      "metadata": {
        "colab": {
          "base_uri": "https://localhost:8080/"
        },
        "id": "eaBcw72rErjH",
        "outputId": "5d8f40d9-9069-4ac7-d01c-aed575523e0b"
      },
      "execution_count": null,
      "outputs": [
        {
          "output_type": "stream",
          "name": "stdout",
          "text": [
            "1/1 [==============================] - 0s 90ms/step\n"
          ]
        }
      ]
    },
    {
      "cell_type": "code",
      "source": [
        "actual = np.argmax(Y_test,axis=1)\n",
        "predicted = np.argmax(Y_pred,axis=1)\n",
        "print(f\"Actual: {actual}\")\n",
        "print(f\"Predicted: {predicted}\")"
      ],
      "metadata": {
        "colab": {
          "base_uri": "https://localhost:8080/"
        },
        "id": "SlAUcJlHFVfa",
        "outputId": "79105d94-63fe-4eaf-9079-cf2cf9a85bc3"
      },
      "execution_count": null,
      "outputs": [
        {
          "output_type": "stream",
          "name": "stdout",
          "text": [
            "Actual: [0 2 2 0 1 1 1 0 2 0 0 0 2 1 1 1 0 0 2 1 2 1 1 2 2 2 1 1 0 1]\n",
            "Predicted: [1 1 1 1 1 1 1 1 1 1 1 1 1 1 1 1 1 1 1 1 1 1 1 1 1 1 1 1 1 1]\n"
          ]
        }
      ]
    },
    {
      "cell_type": "code",
      "source": [
        "from sklearn.metrics import confusion_matrix\n",
        "cm=confusion_matrix(actual, predicted)\n",
        "cm"
      ],
      "metadata": {
        "colab": {
          "base_uri": "https://localhost:8080/"
        },
        "id": "_O5y4YeDIeo4",
        "outputId": "a420e88e-93cd-4197-a6d5-b39a26ec3956"
      },
      "execution_count": null,
      "outputs": [
        {
          "output_type": "execute_result",
          "data": {
            "text/plain": [
              "array([[ 0,  9,  0],\n",
              "       [ 0, 12,  0],\n",
              "       [ 0,  9,  0]])"
            ]
          },
          "metadata": {},
          "execution_count": 37
        }
      ]
    },
    {
      "cell_type": "code",
      "source": [
        "import matplotlib.pyplot as plt\n",
        "import seaborn as sns\n",
        "cm_df = pd.DataFrame(cm,\n",
        "                     index = ['SETOSA','VERSICOLR','VIRGINICA'], \n",
        "                     columns = ['SETOSA','VERSICOLR','VIRGINICA'])\n",
        "#Plotting the confusion matrix\n",
        "plt.figure(figsize=(5,4))\n",
        "sns.heatmap(cm_df, annot=True)\n",
        "plt.title('Confusion Matrix')\n",
        "plt.ylabel('Predicted Values')\n",
        "plt.xlabel('Actual Values')\n",
        "plt.show()"
      ],
      "metadata": {
        "colab": {
          "base_uri": "https://localhost:8080/",
          "height": 295
        },
        "id": "ay60bMdnL3nP",
        "outputId": "9a226eeb-8e26-4432-c2f5-3c48b80385df"
      },
      "execution_count": null,
      "outputs": [
        {
          "output_type": "display_data",
          "data": {
            "text/plain": [
              "<Figure size 360x288 with 2 Axes>"
            ],
            "image/png": "[encoded data removed]"
          },
          "metadata": {
            "needs_background": "light"
          }
        }
      ]
    }
  ]
}