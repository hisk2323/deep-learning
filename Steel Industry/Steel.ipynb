{
  "nbformat": 4,
  "nbformat_minor": 0,
  "metadata": {
    "colab": {
      "provenance": []
    },
    "kernelspec": {
      "name": "python3",
      "display_name": "Python 3"
    },
    "language_info": {
      "name": "python"
    },
    "accelerator": "GPU",
    "gpuClass": "standard"
  },
  "cells": [
    {
      "cell_type": "code",
      "execution_count": null,
      "metadata": {
        "id": "oAOk_IWPp14-"
      },
      "outputs": [],
      "source": [
        "# import some necessary libraries\n",
        "import numpy as np\n",
        "import pandas as pd\n",
        "import tensorflow as tf\n",
        "import keras\n",
        "from keras.models import Model,Sequential\n",
        "from keras.layers import Dense, Input, Dropout\n",
        "from keras.utils import to_categorical\n",
        "import matplotlib.pyplot as plt\n",
        "import seaborn as sns\n",
        "from sklearn.model_selection import train_test_split\n",
        "from sklearn.preprocessing import MinMaxScaler, LabelEncoder\n",
        "from sklearn.metrics import confusion_matrix "
      ]
    },
    {
      "cell_type": "code",
      "source": [
        "# load the data\n",
        "steel = pd.read_csv(\"Steel_industry_data (1).csv\")\n",
        "steel.info()"
      ],
      "metadata": {
        "colab": {
          "base_uri": "https://localhost:8080/"
        },
        "id": "gV6nFtJAqNx9",
        "outputId": "ffc78088-3b2c-48dc-b5d1-be18196670e3"
      },
      "execution_count": null,
      "outputs": [
        {
          "output_type": "stream",
          "name": "stdout",
          "text": [
            "<class 'pandas.core.frame.DataFrame'>\n",
            "RangeIndex: 35040 entries, 0 to 35039\n",
            "Data columns (total 11 columns):\n",
            " #   Column                                Non-Null Count  Dtype  \n",
            "---  ------                                --------------  -----  \n",
            " 0   date                                  35040 non-null  object \n",
            " 1   Usage_kWh                             35040 non-null  float64\n",
            " 2   Lagging_Current_Reactive.Power_kVarh  35040 non-null  float64\n",
            " 3   Leading_Current_Reactive_Power_kVarh  35040 non-null  float64\n",
            " 4   CO2(tCO2)                             35040 non-null  float64\n",
            " 5   Lagging_Current_Power_Factor          35040 non-null  float64\n",
            " 6   Leading_Current_Power_Factor          35040 non-null  float64\n",
            " 7   NSM                                   35040 non-null  int64  \n",
            " 8   WeekStatus                            35040 non-null  object \n",
            " 9   Day_of_week                           35040 non-null  object \n",
            " 10  Load_Type                             35040 non-null  object \n",
            "dtypes: float64(6), int64(1), object(4)\n",
            "memory usage: 2.9+ MB\n"
          ]
        }
      ]
    },
    {
      "cell_type": "code",
      "source": [
        "# need to change date, WeekStatus, Day_of_week, and Load_Type from object Dtype\n",
        "steel['Load_Type'] = to_categorical(steel['Load_Type'].factorize()[0]) # This works, but le.fit_transform gives NaN for loss\n",
        "le = LabelEncoder()\n",
        "steel['date'] = le.fit_transform(steel['date'])\n",
        "steel['WeekStatus'] = le.fit_transform(steel['WeekStatus'])\n",
        "steel['Day_of_week'] = le.fit_transform(steel['Day_of_week'])\n",
        "#steel['Load_Type'] = le.fit_transform(steel['Load_Type'])"
      ],
      "metadata": {
        "id": "h-fC9aJ4q9tt"
      },
      "execution_count": null,
      "outputs": []
    },
    {
      "cell_type": "code",
      "source": [
        "steel.info()\n",
        "# now, all the data types are either float or int"
      ],
      "metadata": {
        "colab": {
          "base_uri": "https://localhost:8080/"
        },
        "id": "fPLhpFGZr88O",
        "outputId": "bf72b88b-5961-4794-fec2-fb88dd98964b"
      },
      "execution_count": null,
      "outputs": [
        {
          "output_type": "stream",
          "name": "stdout",
          "text": [
            "<class 'pandas.core.frame.DataFrame'>\n",
            "RangeIndex: 35040 entries, 0 to 35039\n",
            "Data columns (total 11 columns):\n",
            " #   Column                                Non-Null Count  Dtype  \n",
            "---  ------                                --------------  -----  \n",
            " 0   date                                  35040 non-null  int64  \n",
            " 1   Usage_kWh                             35040 non-null  float64\n",
            " 2   Lagging_Current_Reactive.Power_kVarh  35040 non-null  float64\n",
            " 3   Leading_Current_Reactive_Power_kVarh  35040 non-null  float64\n",
            " 4   CO2(tCO2)                             35040 non-null  float64\n",
            " 5   Lagging_Current_Power_Factor          35040 non-null  float64\n",
            " 6   Leading_Current_Power_Factor          35040 non-null  float64\n",
            " 7   NSM                                   35040 non-null  int64  \n",
            " 8   WeekStatus                            35040 non-null  int64  \n",
            " 9   Day_of_week                           35040 non-null  int64  \n",
            " 10  Load_Type                             35040 non-null  float32\n",
            "dtypes: float32(1), float64(6), int64(4)\n",
            "memory usage: 2.8 MB\n"
          ]
        }
      ]
    },
    {
      "cell_type": "code",
      "source": [
        "# Create a correlation heatmap to see if any features are highly correlated\n",
        "f, ax = plt.subplots(figsize = (12, 10))\n",
        "corr = steel.corr()\n",
        "sns.heatmap(corr, mask = np.zeros_like(corr, dtype = bool), cmap = sns.diverging_palette(220, 10, as_cmap = True), square = True, ax = ax)"
      ],
      "metadata": {
        "colab": {
          "base_uri": "https://localhost:8080/",
          "height": 798
        },
        "id": "N_83NS2a1Oas",
        "outputId": "97817899-608e-4c47-f4c2-8e41e465c751"
      },
      "execution_count": null,
      "outputs": [
        {
          "output_type": "execute_result",
          "data": {
            "text/plain": [
              "<Axes: >"
            ]
          },
          "metadata": {},
          "execution_count": 59
        },
        {
          "output_type": "display_data",
          "data": {
            "text/plain": [
              "<Figure size 864x720 with 2 Axes>"
            ],
            "image/png": "[encoded data removed]"
          },
          "metadata": {
            "needs_background": "light"
          }
        }
      ]
    },
    {
      "cell_type": "markdown",
      "source": [
        "Only a couple of these features are highly correlated. For an initial model, I will keep them all in place."
      ],
      "metadata": {
        "id": "t55JUKsL1acJ"
      }
    },
    {
      "cell_type": "code",
      "source": [
        "# Split the data into X and Y\n",
        "X = steel.drop(['Load_Type'], axis = 1)\n",
        "Y = steel['Load_Type']\n",
        "\n",
        "# Standardize the data\n",
        "mm = MinMaxScaler()\n",
        "fit = mm.fit(X)\n",
        "X = fit.transform(X)"
      ],
      "metadata": {
        "id": "7uYL88jM2XEF"
      },
      "execution_count": null,
      "outputs": []
    },
    {
      "cell_type": "code",
      "source": [
        "# Split X and Y for testing and training\n",
        "X_train, X_test, Y_train, Y_test = train_test_split(X, Y, test_size = 0.2)"
      ],
      "metadata": {
        "id": "mK4vezb13csq"
      },
      "execution_count": null,
      "outputs": []
    },
    {
      "cell_type": "code",
      "source": [
        "# Set up an initial model\n",
        "model = Sequential()\n",
        "model.add(Dense(16, activation = 'relu', input_shape = (10,)))\n",
        "#model.add(Dropout(0.15))\n",
        "model.add(Dense(8, activation = 'relu'))\n",
        "model.add(Dense(4, activation = 'relu'))\n",
        "model.add(Dense(1, activation = 'relu'))"
      ],
      "metadata": {
        "id": "yYFBRjaE3OeF"
      },
      "execution_count": null,
      "outputs": []
    },
    {
      "cell_type": "code",
      "source": [
        "# train the model\n",
        "#opt = tf.keras.optimizers.SGD(learning_rate = 0.005)\n",
        "model.compile(loss = 'mae', optimizer = 'sgd', metrics = ['accuracy'])\n",
        "history = model.fit(X_train, Y_train, epochs = 20, batch_size = 64, verbose = 1, validation_data = (X_test, Y_test))\n",
        "\n",
        "loss, acc = model.evaluate(X_test, Y_test, verbose = 0)\n",
        "print('Test accuracy: %.3f' %acc)\n",
        "\n",
        "loss, acc = model.evaluate(X_train, Y_train, verbose = 0)\n",
        "print('Train accuracy: %.3f' %acc)"
      ],
      "metadata": {
        "colab": {
          "base_uri": "https://localhost:8080/"
        },
        "id": "g2EqgxRm3YRy",
        "outputId": "c28d70a2-7705-4f7b-9cdb-0ef67245ca2d"
      },
      "execution_count": null,
      "outputs": [
        {
          "output_type": "stream",
          "name": "stdout",
          "text": [
            "Epoch 1/20\n",
            "438/438 [==============================] - 2s 3ms/step - loss: 0.4172 - accuracy: 0.5751 - val_loss: 0.2403 - val_accuracy: 0.8231\n",
            "Epoch 2/20\n",
            "438/438 [==============================] - 1s 3ms/step - loss: 0.1744 - accuracy: 0.8602 - val_loss: 0.1557 - val_accuracy: 0.8659\n",
            "Epoch 3/20\n",
            "438/438 [==============================] - 1s 3ms/step - loss: 0.1446 - accuracy: 0.8743 - val_loss: 0.1409 - val_accuracy: 0.8720\n",
            "Epoch 4/20\n",
            "438/438 [==============================] - 1s 3ms/step - loss: 0.1344 - accuracy: 0.8776 - val_loss: 0.1342 - val_accuracy: 0.8766\n",
            "Epoch 5/20\n",
            "438/438 [==============================] - 1s 3ms/step - loss: 0.1292 - accuracy: 0.8808 - val_loss: 0.1300 - val_accuracy: 0.8796\n",
            "Epoch 6/20\n",
            "438/438 [==============================] - 1s 3ms/step - loss: 0.1258 - accuracy: 0.8823 - val_loss: 0.1269 - val_accuracy: 0.8803\n",
            "Epoch 7/20\n",
            "438/438 [==============================] - 2s 4ms/step - loss: 0.1228 - accuracy: 0.8855 - val_loss: 0.1254 - val_accuracy: 0.8821\n",
            "Epoch 8/20\n",
            "438/438 [==============================] - 1s 3ms/step - loss: 0.1207 - accuracy: 0.8871 - val_loss: 0.1218 - val_accuracy: 0.8831\n",
            "Epoch 9/20\n",
            "438/438 [==============================] - 1s 3ms/step - loss: 0.1185 - accuracy: 0.8890 - val_loss: 0.1198 - val_accuracy: 0.8858\n",
            "Epoch 10/20\n",
            "438/438 [==============================] - 1s 3ms/step - loss: 0.1169 - accuracy: 0.8913 - val_loss: 0.1196 - val_accuracy: 0.8900\n",
            "Epoch 11/20\n",
            "438/438 [==============================] - 1s 3ms/step - loss: 0.1163 - accuracy: 0.8932 - val_loss: 0.1170 - val_accuracy: 0.8924\n",
            "Epoch 12/20\n",
            "438/438 [==============================] - 1s 3ms/step - loss: 0.1150 - accuracy: 0.8951 - val_loss: 0.1163 - val_accuracy: 0.8936\n",
            "Epoch 13/20\n",
            "438/438 [==============================] - 1s 3ms/step - loss: 0.1136 - accuracy: 0.8971 - val_loss: 0.1136 - val_accuracy: 0.8950\n",
            "Epoch 14/20\n",
            "438/438 [==============================] - 1s 3ms/step - loss: 0.1128 - accuracy: 0.8987 - val_loss: 0.1147 - val_accuracy: 0.8950\n",
            "Epoch 15/20\n",
            "438/438 [==============================] - 2s 4ms/step - loss: 0.1118 - accuracy: 0.9002 - val_loss: 0.1127 - val_accuracy: 0.8955\n",
            "Epoch 16/20\n",
            "438/438 [==============================] - 2s 4ms/step - loss: 0.1109 - accuracy: 0.9008 - val_loss: 0.1131 - val_accuracy: 0.8960\n",
            "Epoch 17/20\n",
            "438/438 [==============================] - 1s 3ms/step - loss: 0.1101 - accuracy: 0.9019 - val_loss: 0.1110 - val_accuracy: 0.8991\n",
            "Epoch 18/20\n",
            "438/438 [==============================] - 1s 3ms/step - loss: 0.1093 - accuracy: 0.9023 - val_loss: 0.1101 - val_accuracy: 0.9017\n",
            "Epoch 19/20\n",
            "438/438 [==============================] - 1s 3ms/step - loss: 0.1084 - accuracy: 0.9034 - val_loss: 0.1075 - val_accuracy: 0.9020\n",
            "Epoch 20/20\n",
            "438/438 [==============================] - 1s 3ms/step - loss: 0.1078 - accuracy: 0.9048 - val_loss: 0.1099 - val_accuracy: 0.9027\n",
            "Test accuracy: 0.903\n",
            "Train accuracy: 0.905\n"
          ]
        }
      ]
    },
    {
      "cell_type": "code",
      "source": [
        "# Plot the model accuracy over time\n",
        "plt.plot(history.history['accuracy'])\n",
        "plt.plot(history.history['val_accuracy'])\n",
        "plt.title('initial model accuracy')\n",
        "plt.ylabel('accuracy')\n",
        "plt.xlabel('epoch')\n",
        "plt.legend(['train', 'test'], loc = 'upper right')\n",
        "plt.show()"
      ],
      "metadata": {
        "colab": {
          "base_uri": "https://localhost:8080/",
          "height": 295
        },
        "id": "OeMEqExZzTh7",
        "outputId": "243775e5-a956-4f5f-c72f-dad70b2f9e1f"
      },
      "execution_count": null,
      "outputs": [
        {
          "output_type": "display_data",
          "data": {
            "text/plain": [
              "<Figure size 432x288 with 1 Axes>"
            ],
            "image/png": "[encoded data removed]"
          },
          "metadata": {
            "needs_background": "light"
          }
        }
      ]
    },
    {
      "cell_type": "markdown",
      "source": [
        "The accuracy of this model is pretty impressive at just over 90% across both testing and training. However, I'll attempt a second model and drop one of the highly correlated features (Lagging_Current_Reactive_Power_kVarh) and  to see if this has any bearing on the accuracy."
      ],
      "metadata": {
        "id": "zYGvFaAnzzTT"
      }
    },
    {
      "cell_type": "code",
      "source": [
        "# Split the data into X and Y, now dropping the only major highly correlated feature\n",
        "X = steel.drop(['Load_Type', 'Lagging_Current_Reactive.Power_kVarh'], axis = 1)\n",
        "Y = steel['Load_Type']\n",
        "\n",
        "# Standardize the data\n",
        "mm = MinMaxScaler()\n",
        "fit = mm.fit(X)\n",
        "X = fit.transform(X)"
      ],
      "metadata": {
        "id": "1wiuoyM74ymY"
      },
      "execution_count": null,
      "outputs": []
    },
    {
      "cell_type": "code",
      "source": [
        "# Split X and Y for testing and training\n",
        "X_train, X_test, Y_train, Y_test = train_test_split(X, Y, test_size = 0.2)"
      ],
      "metadata": {
        "id": "bN8w9l8v5kEE"
      },
      "execution_count": null,
      "outputs": []
    },
    {
      "cell_type": "code",
      "source": [
        "# Set up a second model\n",
        "model = Sequential()\n",
        "model.add(Dense(16, activation = 'relu', input_shape = (9,)))\n",
        "#model.add(Dropout(0.15))\n",
        "model.add(Dense(8, activation = 'relu'))\n",
        "model.add(Dense(4, activation = 'relu'))\n",
        "model.add(Dense(1, activation = 'relu'))"
      ],
      "metadata": {
        "id": "k2sG-KZD5pS2"
      },
      "execution_count": null,
      "outputs": []
    },
    {
      "cell_type": "code",
      "source": [
        "# train the second model\n",
        "#opt = tf.keras.optimizers.SGD(learning_rate = 0.005)\n",
        "model.compile(loss = 'mae', optimizer = 'adam', metrics = ['accuracy'])\n",
        "history = model.fit(X_train, Y_train, epochs = 20, batch_size = 64, verbose = 1, validation_data = (X_test, Y_test))\n",
        "\n",
        "loss, acc = model.evaluate(X_test, Y_test, verbose = 0)\n",
        "print('Test accuracy: %.3f' %acc)\n",
        "\n",
        "loss, acc = model.evaluate(X_train, Y_train, verbose = 0)\n",
        "print('Train accuracy: %.3f' %acc)"
      ],
      "metadata": {
        "colab": {
          "base_uri": "https://localhost:8080/"
        },
        "id": "b0fPaIst5spL",
        "outputId": "db379cd2-4681-4817-a516-ae58e3182f25"
      },
      "execution_count": null,
      "outputs": [
        {
          "output_type": "stream",
          "name": "stdout",
          "text": [
            "Epoch 1/20\n",
            "438/438 [==============================] - 3s 3ms/step - loss: 0.2894 - accuracy: 0.7363 - val_loss: 0.1546 - val_accuracy: 0.8704\n",
            "Epoch 2/20\n",
            "438/438 [==============================] - 1s 3ms/step - loss: 0.1417 - accuracy: 0.8740 - val_loss: 0.1362 - val_accuracy: 0.8756\n",
            "Epoch 3/20\n",
            "438/438 [==============================] - 2s 3ms/step - loss: 0.1301 - accuracy: 0.8808 - val_loss: 0.1259 - val_accuracy: 0.8818\n",
            "Epoch 4/20\n",
            "438/438 [==============================] - 2s 4ms/step - loss: 0.1248 - accuracy: 0.8825 - val_loss: 0.1212 - val_accuracy: 0.8853\n",
            "Epoch 5/20\n",
            "438/438 [==============================] - 2s 5ms/step - loss: 0.1207 - accuracy: 0.8844 - val_loss: 0.1166 - val_accuracy: 0.8900\n",
            "Epoch 6/20\n",
            "438/438 [==============================] - 2s 4ms/step - loss: 0.1173 - accuracy: 0.8889 - val_loss: 0.1134 - val_accuracy: 0.8920\n",
            "Epoch 7/20\n",
            "438/438 [==============================] - 2s 4ms/step - loss: 0.1145 - accuracy: 0.8915 - val_loss: 0.1106 - val_accuracy: 0.8947\n",
            "Epoch 8/20\n",
            "438/438 [==============================] - 2s 3ms/step - loss: 0.1120 - accuracy: 0.8933 - val_loss: 0.1084 - val_accuracy: 0.8968\n",
            "Epoch 9/20\n",
            "438/438 [==============================] - 1s 3ms/step - loss: 0.1102 - accuracy: 0.8941 - val_loss: 0.1079 - val_accuracy: 0.8971\n",
            "Epoch 10/20\n",
            "438/438 [==============================] - 2s 3ms/step - loss: 0.1086 - accuracy: 0.8962 - val_loss: 0.1052 - val_accuracy: 0.9000\n",
            "Epoch 11/20\n",
            "438/438 [==============================] - 1s 3ms/step - loss: 0.1073 - accuracy: 0.8979 - val_loss: 0.1051 - val_accuracy: 0.9004\n",
            "Epoch 12/20\n",
            "438/438 [==============================] - 1s 3ms/step - loss: 0.1067 - accuracy: 0.8978 - val_loss: 0.1036 - val_accuracy: 0.9018\n",
            "Epoch 13/20\n",
            "438/438 [==============================] - 1s 3ms/step - loss: 0.1054 - accuracy: 0.8990 - val_loss: 0.1029 - val_accuracy: 0.9023\n",
            "Epoch 14/20\n",
            "438/438 [==============================] - 2s 4ms/step - loss: 0.1043 - accuracy: 0.9001 - val_loss: 0.1007 - val_accuracy: 0.9034\n",
            "Epoch 15/20\n",
            "438/438 [==============================] - 2s 4ms/step - loss: 0.1034 - accuracy: 0.9007 - val_loss: 0.1010 - val_accuracy: 0.9038\n",
            "Epoch 16/20\n",
            "438/438 [==============================] - 1s 3ms/step - loss: 0.1002 - accuracy: 0.9039 - val_loss: 0.0977 - val_accuracy: 0.9062\n",
            "Epoch 17/20\n",
            "438/438 [==============================] - 1s 3ms/step - loss: 0.0977 - accuracy: 0.9057 - val_loss: 0.0970 - val_accuracy: 0.9051\n",
            "Epoch 18/20\n",
            "438/438 [==============================] - 1s 3ms/step - loss: 0.0966 - accuracy: 0.9066 - val_loss: 0.0951 - val_accuracy: 0.9078\n",
            "Epoch 19/20\n",
            "438/438 [==============================] - 1s 3ms/step - loss: 0.0938 - accuracy: 0.9087 - val_loss: 0.0934 - val_accuracy: 0.9101\n",
            "Epoch 20/20\n",
            "438/438 [==============================] - 2s 3ms/step - loss: 0.0911 - accuracy: 0.9122 - val_loss: 0.0900 - val_accuracy: 0.9132\n",
            "Test accuracy: 0.913\n",
            "Train accuracy: 0.915\n"
          ]
        }
      ]
    },
    {
      "cell_type": "code",
      "source": [
        "# Plot the model accuracy over time\n",
        "plt.plot(history.history['accuracy'])\n",
        "plt.plot(history.history['val_accuracy'])\n",
        "plt.title('secondary model accuracy')\n",
        "plt.ylabel('accuracy')\n",
        "plt.xlabel('epoch')\n",
        "plt.legend(['train', 'test'], loc = 'upper right')\n",
        "plt.show()"
      ],
      "metadata": {
        "colab": {
          "base_uri": "https://localhost:8080/",
          "height": 295
        },
        "id": "si0CCp7w5vzX",
        "outputId": "5622e207-1f11-49f6-f55f-83e2cea5c536"
      },
      "execution_count": null,
      "outputs": [
        {
          "output_type": "display_data",
          "data": {
            "text/plain": [
              "<Figure size 432x288 with 1 Axes>"
            ],
            "image/png": "[encoded data removed]"
          },
          "metadata": {
            "needs_background": "light"
          }
        }
      ]
    },
    {
      "cell_type": "markdown",
      "source": [
        "After dropping the feature, the accuracy of this model is largely unchanged when compared to the previous one. As such, we can conclude that the Lagging_Current_Reactive.Power feature was not contributing significantly to the output."
      ],
      "metadata": {
        "id": "PsrL8akt8LCb"
      }
    }
  ]
}