{
  "nbformat": 4,
  "nbformat_minor": 0,
  "metadata": {
    "colab": {
      "provenance": []
    },
    "kernelspec": {
      "name": "python3",
      "display_name": "Python 3"
    },
    "language_info": {
      "name": "python"
    },
    "accelerator": "GPU",
    "gpuClass": "standard"
  },
  "cells": [
    {
      "cell_type": "code",
      "execution_count": null,
      "metadata": {
        "id": "hWbKs7_IG_Of"
      },
      "outputs": [],
      "source": [
        "# import necessary info\n",
        "import numpy as np\n",
        "import pandas as pd\n",
        "import tensorflow as tf\n",
        "from keras.models import Sequential\n",
        "from keras.layers import Conv2D,Flatten,MaxPool2D,AveragePooling2D"
      ]
    },
    {
      "cell_type": "code",
      "source": [
        "# load data\n",
        "from tensorflow.keras.datasets import cifar10\n",
        "(X_train, Y_train), (X_test, Y_test) = cifar10.load_data()"
      ],
      "metadata": {
        "id": "tU1xVpdvHqEj"
      },
      "execution_count": null,
      "outputs": []
    },
    {
      "cell_type": "code",
      "source": [
        "X_train.shape"
      ],
      "metadata": {
        "colab": {
          "base_uri": "https://localhost:8080/"
        },
        "id": "GOMUviHrINqP",
        "outputId": "49e03dfc-65cd-47d2-eb62-6093b4b56dc3"
      },
      "execution_count": null,
      "outputs": [
        {
          "output_type": "execute_result",
          "data": {
            "text/plain": [
              "(50000, 32, 32, 3)"
            ]
          },
          "metadata": {},
          "execution_count": 3
        }
      ]
    },
    {
      "cell_type": "code",
      "source": [
        "# show one image from the dataset\n",
        "import matplotlib.pyplot as plt\n",
        "plt.imshow(X_train[1],cmap=plt.cm.binary)"
      ],
      "metadata": {
        "colab": {
          "base_uri": "https://localhost:8080/",
          "height": 284
        },
        "id": "xrYAS7AxIUgG",
        "outputId": "5edc0f3f-a860-4af4-8f15-45e80fbdc670"
      },
      "execution_count": null,
      "outputs": [
        {
          "output_type": "execute_result",
          "data": {
            "text/plain": [
              "<matplotlib.image.AxesImage at 0x7fbf860c8250>"
            ]
          },
          "metadata": {},
          "execution_count": 4
        },
        {
          "output_type": "display_data",
          "data": {
            "text/plain": [
              "<Figure size 432x288 with 1 Axes>"
            ],
            "image/png": "[encoded data removed]"
          },
          "metadata": {
            "needs_background": "light"
          }
        }
      ]
    },
    {
      "cell_type": "code",
      "source": [
        "X_train.min()\n",
        "# range is 0-255"
      ],
      "metadata": {
        "colab": {
          "base_uri": "https://localhost:8080/"
        },
        "id": "UUDAgWudIcxH",
        "outputId": "c274bbcf-e7c1-4e3a-b4a1-1b2a568d67ad"
      },
      "execution_count": null,
      "outputs": [
        {
          "output_type": "execute_result",
          "data": {
            "text/plain": [
              "0"
            ]
          },
          "metadata": {},
          "execution_count": 5
        }
      ]
    },
    {
      "cell_type": "code",
      "source": [
        "# I attempted the model once without normalizing the pixels, and the results were very inaccurate (~10%) - so here, I will normalize the pixel values\n",
        "X_train=X_train.astype('float32')\n",
        "X_test=X_test.astype('float32')\n",
        "X_train/=255\n",
        "X_test/=255"
      ],
      "metadata": {
        "id": "PV0K_1MvLlck"
      },
      "execution_count": null,
      "outputs": []
    },
    {
      "cell_type": "code",
      "source": [
        "X_train.shape"
      ],
      "metadata": {
        "colab": {
          "base_uri": "https://localhost:8080/"
        },
        "id": "IFwe28J5JdEF",
        "outputId": "85b81bec-b77c-4601-ab97-1f4bfcbf5859"
      },
      "execution_count": null,
      "outputs": [
        {
          "output_type": "execute_result",
          "data": {
            "text/plain": [
              "(50000, 32, 32, 3)"
            ]
          },
          "metadata": {},
          "execution_count": 7
        }
      ]
    },
    {
      "cell_type": "code",
      "source": [
        "# change Y to categorical\n",
        "from keras.utils import to_categorical\n",
        "Y_train=to_categorical(Y_train)\n",
        "Y_test=to_categorical(Y_test)\n",
        "Y_train.shape"
      ],
      "metadata": {
        "colab": {
          "base_uri": "https://localhost:8080/"
        },
        "id": "MkxstK-_InL2",
        "outputId": "a4346cfa-68fc-4cbe-befd-e4298bb2b0a2"
      },
      "execution_count": null,
      "outputs": [
        {
          "output_type": "execute_result",
          "data": {
            "text/plain": [
              "(50000, 10)"
            ]
          },
          "metadata": {},
          "execution_count": 8
        }
      ]
    },
    {
      "cell_type": "code",
      "source": [
        "# create the CNN model\n",
        "from keras.layers import Dense\n",
        "model=Sequential()\n",
        "model.add(Conv2D(32, (2, 2), activation = 'relu', kernel_initializer = 'he_uniform', input_shape=(32, 32, 3)))\n",
        "#model.add(AveragePooling2D(2, 2))\n",
        "model.add(MaxPool2D(2, 2))\n",
        "model.add(Flatten())\n",
        "model.add(Dense(1000, activation = 'relu'))\n",
        "model.add(Dense(500, activation = 'relu'))\n",
        "model.add(Dense(250, activation = 'relu'))\n",
        "model.add(Dense(10, activation = 'softmax'))"
      ],
      "metadata": {
        "id": "WuXIKxsbJC4x"
      },
      "execution_count": null,
      "outputs": []
    },
    {
      "cell_type": "code",
      "source": [
        "model.compile(optimizer = 'SGD', loss = 'categorical_crossentropy', metrics = ['categorical_accuracy'])\n",
        "history = model.fit(X_train, Y_train, epochs = 50, validation_data = (X_test, Y_test), batch_size = 256, verbose = 1)\n",
        "\n",
        "loss, acc = model.evaluate(X_test, Y_test, verbose = 0)\n",
        "print('Test accuracy: %.3f' %acc)\n",
        "\n",
        "loss, acc = model.evaluate(X_train, Y_train, verbose = 0)\n",
        "print('Train accuracy: %.3f' %acc)"
      ],
      "metadata": {
        "colab": {
          "base_uri": "https://localhost:8080/"
        },
        "id": "Gngxthk_JOgl",
        "outputId": "c67a59b1-f889-4aaa-a9b8-601b60c5bb26"
      },
      "execution_count": null,
      "outputs": [
        {
          "output_type": "stream",
          "name": "stdout",
          "text": [
            "Epoch 1/50\n",
            "196/196 [==============================] - 4s 15ms/step - loss: 2.0117 - categorical_accuracy: 0.2770 - val_loss: 1.9498 - val_categorical_accuracy: 0.2776\n",
            "Epoch 2/50\n",
            "196/196 [==============================] - 2s 11ms/step - loss: 1.8275 - categorical_accuracy: 0.3494 - val_loss: 1.9214 - val_categorical_accuracy: 0.3197\n",
            "Epoch 3/50\n",
            "196/196 [==============================] - 2s 11ms/step - loss: 1.7372 - categorical_accuracy: 0.3859 - val_loss: 1.7559 - val_categorical_accuracy: 0.3543\n",
            "Epoch 4/50\n",
            "196/196 [==============================] - 2s 10ms/step - loss: 1.6645 - categorical_accuracy: 0.4109 - val_loss: 1.6237 - val_categorical_accuracy: 0.4165\n",
            "Epoch 5/50\n",
            "196/196 [==============================] - 2s 10ms/step - loss: 1.6088 - categorical_accuracy: 0.4305 - val_loss: 1.6009 - val_categorical_accuracy: 0.4265\n",
            "Epoch 6/50\n",
            "196/196 [==============================] - 2s 13ms/step - loss: 1.5660 - categorical_accuracy: 0.4469 - val_loss: 1.6062 - val_categorical_accuracy: 0.4343\n",
            "Epoch 7/50\n",
            "196/196 [==============================] - 2s 11ms/step - loss: 1.5169 - categorical_accuracy: 0.4647 - val_loss: 1.6757 - val_categorical_accuracy: 0.4029\n",
            "Epoch 8/50\n",
            "196/196 [==============================] - 2s 11ms/step - loss: 1.4791 - categorical_accuracy: 0.4776 - val_loss: 1.5269 - val_categorical_accuracy: 0.4540\n",
            "Epoch 9/50\n",
            "196/196 [==============================] - 2s 10ms/step - loss: 1.4439 - categorical_accuracy: 0.4914 - val_loss: 1.4592 - val_categorical_accuracy: 0.4794\n",
            "Epoch 10/50\n",
            "196/196 [==============================] - 2s 11ms/step - loss: 1.4077 - categorical_accuracy: 0.5034 - val_loss: 1.4576 - val_categorical_accuracy: 0.4711\n",
            "Epoch 11/50\n",
            "196/196 [==============================] - 2s 11ms/step - loss: 1.3658 - categorical_accuracy: 0.5197 - val_loss: 1.5129 - val_categorical_accuracy: 0.4677\n",
            "Epoch 12/50\n",
            "196/196 [==============================] - 2s 13ms/step - loss: 1.3453 - categorical_accuracy: 0.5265 - val_loss: 1.4001 - val_categorical_accuracy: 0.5110\n",
            "Epoch 13/50\n",
            "196/196 [==============================] - 2s 11ms/step - loss: 1.3149 - categorical_accuracy: 0.5372 - val_loss: 1.4816 - val_categorical_accuracy: 0.4715\n",
            "Epoch 14/50\n",
            "196/196 [==============================] - 2s 11ms/step - loss: 1.2829 - categorical_accuracy: 0.5494 - val_loss: 1.3718 - val_categorical_accuracy: 0.5105\n",
            "Epoch 15/50\n",
            "196/196 [==============================] - 2s 11ms/step - loss: 1.2575 - categorical_accuracy: 0.5578 - val_loss: 1.3154 - val_categorical_accuracy: 0.5347\n",
            "Epoch 16/50\n",
            "196/196 [==============================] - 2s 10ms/step - loss: 1.2364 - categorical_accuracy: 0.5664 - val_loss: 1.2730 - val_categorical_accuracy: 0.5481\n",
            "Epoch 17/50\n",
            "196/196 [==============================] - 2s 11ms/step - loss: 1.2101 - categorical_accuracy: 0.5780 - val_loss: 1.2443 - val_categorical_accuracy: 0.5572\n",
            "Epoch 18/50\n",
            "196/196 [==============================] - 2s 11ms/step - loss: 1.1966 - categorical_accuracy: 0.5818 - val_loss: 1.4457 - val_categorical_accuracy: 0.4990\n",
            "Epoch 19/50\n",
            "196/196 [==============================] - 2s 11ms/step - loss: 1.1694 - categorical_accuracy: 0.5906 - val_loss: 1.2257 - val_categorical_accuracy: 0.5632\n",
            "Epoch 20/50\n",
            "196/196 [==============================] - 2s 11ms/step - loss: 1.1524 - categorical_accuracy: 0.5980 - val_loss: 1.2055 - val_categorical_accuracy: 0.5804\n",
            "Epoch 21/50\n",
            "196/196 [==============================] - 2s 11ms/step - loss: 1.1272 - categorical_accuracy: 0.6088 - val_loss: 1.2490 - val_categorical_accuracy: 0.5612\n",
            "Epoch 22/50\n",
            "196/196 [==============================] - 2s 11ms/step - loss: 1.1127 - categorical_accuracy: 0.6129 - val_loss: 1.1691 - val_categorical_accuracy: 0.5874\n",
            "Epoch 23/50\n",
            "196/196 [==============================] - 2s 12ms/step - loss: 1.0918 - categorical_accuracy: 0.6203 - val_loss: 1.3392 - val_categorical_accuracy: 0.5264\n",
            "Epoch 24/50\n",
            "196/196 [==============================] - 2s 11ms/step - loss: 1.0751 - categorical_accuracy: 0.6257 - val_loss: 1.5059 - val_categorical_accuracy: 0.4754\n",
            "Epoch 25/50\n",
            "196/196 [==============================] - 2s 11ms/step - loss: 1.0597 - categorical_accuracy: 0.6337 - val_loss: 1.1724 - val_categorical_accuracy: 0.5834\n",
            "Epoch 26/50\n",
            "196/196 [==============================] - 2s 10ms/step - loss: 1.0398 - categorical_accuracy: 0.6393 - val_loss: 1.2142 - val_categorical_accuracy: 0.5727\n",
            "Epoch 27/50\n",
            "196/196 [==============================] - 2s 10ms/step - loss: 1.0220 - categorical_accuracy: 0.6448 - val_loss: 1.2543 - val_categorical_accuracy: 0.5667\n",
            "Epoch 28/50\n",
            "196/196 [==============================] - 2s 11ms/step - loss: 1.0111 - categorical_accuracy: 0.6487 - val_loss: 1.2332 - val_categorical_accuracy: 0.5665\n",
            "Epoch 29/50\n",
            "196/196 [==============================] - 2s 13ms/step - loss: 0.9952 - categorical_accuracy: 0.6551 - val_loss: 1.2117 - val_categorical_accuracy: 0.5736\n",
            "Epoch 30/50\n",
            "196/196 [==============================] - 2s 13ms/step - loss: 0.9759 - categorical_accuracy: 0.6611 - val_loss: 1.3413 - val_categorical_accuracy: 0.5329\n",
            "Epoch 31/50\n",
            "196/196 [==============================] - 3s 13ms/step - loss: 0.9602 - categorical_accuracy: 0.6686 - val_loss: 1.1776 - val_categorical_accuracy: 0.5882\n",
            "Epoch 32/50\n",
            "196/196 [==============================] - 2s 11ms/step - loss: 0.9494 - categorical_accuracy: 0.6709 - val_loss: 1.1163 - val_categorical_accuracy: 0.6054\n",
            "Epoch 33/50\n",
            "196/196 [==============================] - 2s 12ms/step - loss: 0.9321 - categorical_accuracy: 0.6784 - val_loss: 1.1611 - val_categorical_accuracy: 0.5973\n",
            "Epoch 34/50\n",
            "196/196 [==============================] - 2s 12ms/step - loss: 0.9124 - categorical_accuracy: 0.6859 - val_loss: 1.0867 - val_categorical_accuracy: 0.6169\n",
            "Epoch 35/50\n",
            "196/196 [==============================] - 3s 13ms/step - loss: 0.8979 - categorical_accuracy: 0.6914 - val_loss: 1.1585 - val_categorical_accuracy: 0.5886\n",
            "Epoch 36/50\n",
            "196/196 [==============================] - 2s 11ms/step - loss: 0.8865 - categorical_accuracy: 0.6974 - val_loss: 1.2043 - val_categorical_accuracy: 0.5859\n",
            "Epoch 37/50\n",
            "196/196 [==============================] - 2s 11ms/step - loss: 0.8713 - categorical_accuracy: 0.7012 - val_loss: 1.1148 - val_categorical_accuracy: 0.6094\n",
            "Epoch 38/50\n",
            "196/196 [==============================] - 2s 11ms/step - loss: 0.8549 - categorical_accuracy: 0.7059 - val_loss: 1.1189 - val_categorical_accuracy: 0.6030\n",
            "Epoch 39/50\n",
            "196/196 [==============================] - 2s 11ms/step - loss: 0.8382 - categorical_accuracy: 0.7129 - val_loss: 1.1498 - val_categorical_accuracy: 0.5991\n",
            "Epoch 40/50\n",
            "196/196 [==============================] - 2s 12ms/step - loss: 0.8314 - categorical_accuracy: 0.7133 - val_loss: 1.1026 - val_categorical_accuracy: 0.6145\n",
            "Epoch 41/50\n",
            "196/196 [==============================] - 2s 12ms/step - loss: 0.8151 - categorical_accuracy: 0.7214 - val_loss: 1.1001 - val_categorical_accuracy: 0.6188\n",
            "Epoch 42/50\n",
            "196/196 [==============================] - 2s 10ms/step - loss: 0.7948 - categorical_accuracy: 0.7265 - val_loss: 1.2344 - val_categorical_accuracy: 0.5648\n",
            "Epoch 43/50\n",
            "196/196 [==============================] - 2s 10ms/step - loss: 0.7815 - categorical_accuracy: 0.7323 - val_loss: 1.0866 - val_categorical_accuracy: 0.6209\n",
            "Epoch 44/50\n",
            "196/196 [==============================] - 2s 11ms/step - loss: 0.7718 - categorical_accuracy: 0.7355 - val_loss: 1.1984 - val_categorical_accuracy: 0.5918\n",
            "Epoch 45/50\n",
            "196/196 [==============================] - 2s 11ms/step - loss: 0.7540 - categorical_accuracy: 0.7414 - val_loss: 1.0816 - val_categorical_accuracy: 0.6275\n",
            "Epoch 46/50\n",
            "196/196 [==============================] - 3s 13ms/step - loss: 0.7403 - categorical_accuracy: 0.7496 - val_loss: 1.1684 - val_categorical_accuracy: 0.5910\n",
            "Epoch 47/50\n",
            "196/196 [==============================] - 2s 11ms/step - loss: 0.7211 - categorical_accuracy: 0.7554 - val_loss: 1.0473 - val_categorical_accuracy: 0.6357\n",
            "Epoch 48/50\n",
            "196/196 [==============================] - 2s 10ms/step - loss: 0.7052 - categorical_accuracy: 0.7612 - val_loss: 1.2356 - val_categorical_accuracy: 0.5865\n",
            "Epoch 49/50\n",
            "196/196 [==============================] - 2s 11ms/step - loss: 0.6946 - categorical_accuracy: 0.7655 - val_loss: 1.1909 - val_categorical_accuracy: 0.5945\n",
            "Epoch 50/50\n",
            "196/196 [==============================] - 2s 11ms/step - loss: 0.6794 - categorical_accuracy: 0.7693 - val_loss: 1.0924 - val_categorical_accuracy: 0.6238\n",
            "Test accuracy: 0.624\n",
            "Train accuracy: 0.760\n"
          ]
        }
      ]
    },
    {
      "cell_type": "code",
      "source": [
        "# Visualize the model accuracy over time\n",
        "import matplotlib.pyplot as plt\n",
        "plt.plot(history.history['categorical_accuracy'])\n",
        "plt.plot(history.history['val_categorical_accuracy'])\n",
        "plt.title('Model accuracy')\n",
        "plt.ylabel('accuracy')\n",
        "plt.xlabel('epoch')\n",
        "plt.legend(['train', 'test'], loc = 'lower right')\n",
        "plt.show()"
      ],
      "metadata": {
        "colab": {
          "base_uri": "https://localhost:8080/",
          "height": 295
        },
        "id": "-NMjcOllMHoX",
        "outputId": "b14ee2dc-5e2b-495e-c3bd-f2d404e96187"
      },
      "execution_count": null,
      "outputs": [
        {
          "output_type": "display_data",
          "data": {
            "text/plain": [
              "<Figure size 432x288 with 1 Axes>"
            ],
            "image/png": "[encoded data removed]"
          },
          "metadata": {
            "needs_background": "light"
          }
        }
      ]
    },
    {
      "cell_type": "markdown",
      "source": [
        "Results with 50 epochs and AveragePooling2D layer: 60.0% test, 68,7% train\n",
        "\n",
        "Results with 50 epochs and MaxPool2D layer: 65.7% test, 81.9% train\n",
        "\n",
        "MaxPool2D appears to be a better fit for this dataset, as it led to (slightly) better accuracy across both testing and training. I believe this may be due to AveragePooling2D's tendency to miss sharper features of an image. \n",
        "\n",
        "The testing accuracy does not seem to go beyond 65% no matter which parameters I change."
      ],
      "metadata": {
        "id": "B8VUjalwMWIi"
      }
    }
  ]
}