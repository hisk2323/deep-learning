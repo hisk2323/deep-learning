{
  "nbformat": 4,
  "nbformat_minor": 0,
  "metadata": {
    "colab": {
      "provenance": []
    },
    "kernelspec": {
      "name": "python3",
      "display_name": "Python 3"
    },
    "language_info": {
      "name": "python"
    },
    "accelerator": "GPU",
    "gpuClass": "standard"
  },
  "cells": [
    {
      "cell_type": "code",
      "execution_count": null,
      "metadata": {
        "id": "ma49JCohytfu"
      },
      "outputs": [],
      "source": [
        "# import necessary libraries\n",
        "import numpy as np\n",
        "import pandas as pd\n",
        "from keras.datasets import fashion_mnist\n",
        "from keras.models import Sequential\n",
        "from keras.layers import Conv2D, Flatten, MaxPool2D, Dense"
      ]
    },
    {
      "cell_type": "code",
      "source": [
        "# load and split the fashion dataset\n",
        "(X_train, Y_train), (X_test, Y_test) = fashion_mnist.load_data()"
      ],
      "metadata": {
        "id": "J2BnYZNlzpFi",
        "colab": {
          "base_uri": "https://localhost:8080/"
        },
        "outputId": "5449d203-6e9b-4d37-ef67-840650ce8ba0"
      },
      "execution_count": null,
      "outputs": [
        {
          "output_type": "stream",
          "name": "stdout",
          "text": [
            "Downloading data from https://storage.googleapis.com/tensorflow/tf-keras-datasets/train-labels-idx1-ubyte.gz\n",
            "29515/29515 [==============================] - 0s 0us/step\n",
            "Downloading data from https://storage.googleapis.com/tensorflow/tf-keras-datasets/train-images-idx3-ubyte.gz\n",
            "26421880/26421880 [==============================] - 2s 0us/step\n",
            "Downloading data from https://storage.googleapis.com/tensorflow/tf-keras-datasets/t10k-labels-idx1-ubyte.gz\n",
            "5148/5148 [==============================] - 0s 0us/step\n",
            "Downloading data from https://storage.googleapis.com/tensorflow/tf-keras-datasets/t10k-images-idx3-ubyte.gz\n",
            "4422102/4422102 [==============================] - 0s 0us/step\n"
          ]
        }
      ]
    },
    {
      "cell_type": "code",
      "source": [
        "X_train.shape"
      ],
      "metadata": {
        "colab": {
          "base_uri": "https://localhost:8080/"
        },
        "id": "a21q_qD5z_el",
        "outputId": "e74d0a22-4bfe-4294-f2aa-a45bb0ba6bd4"
      },
      "execution_count": null,
      "outputs": [
        {
          "output_type": "execute_result",
          "data": {
            "text/plain": [
              "(60000, 28, 28)"
            ]
          },
          "metadata": {},
          "execution_count": 3
        }
      ]
    },
    {
      "cell_type": "code",
      "source": [
        "import matplotlib.pyplot as plt\n",
        "plt.imshow(X_train[10], cmap = plt.cm.binary)"
      ],
      "metadata": {
        "colab": {
          "base_uri": "https://localhost:8080/",
          "height": 283
        },
        "id": "izB9OlTg0UD0",
        "outputId": "45c74994-af8f-4b63-947d-785576485231"
      },
      "execution_count": null,
      "outputs": [
        {
          "output_type": "execute_result",
          "data": {
            "text/plain": [
              "<matplotlib.image.AxesImage at 0x7ffab99620a0>"
            ]
          },
          "metadata": {},
          "execution_count": 4
        },
        {
          "output_type": "display_data",
          "data": {
            "text/plain": [
              "<Figure size 432x288 with 1 Axes>"
            ],
            "image/png": "[encoded data removed]"
          },
          "metadata": {
            "needs_background": "light"
          }
        }
      ]
    },
    {
      "cell_type": "code",
      "source": [
        "print(str(X_train.min()))\n",
        "print(str(X_train.max()))"
      ],
      "metadata": {
        "colab": {
          "base_uri": "https://localhost:8080/"
        },
        "id": "UVC_g1va0-7c",
        "outputId": "86157987-1590-4b0a-cb4c-0e1fd7a202ce"
      },
      "execution_count": null,
      "outputs": [
        {
          "output_type": "stream",
          "name": "stdout",
          "text": [
            "0\n",
            "255\n"
          ]
        }
      ]
    },
    {
      "cell_type": "code",
      "source": [
        "# normalize the pixel values\n",
        "X_train = X_train.astype('float32')\n",
        "X_test = X_test.astype('float32')\n",
        "X_train /= 255\n",
        "X_test /= 255"
      ],
      "metadata": {
        "id": "AF5BXNte1cnd"
      },
      "execution_count": null,
      "outputs": []
    },
    {
      "cell_type": "code",
      "source": [
        "Y_train.shape"
      ],
      "metadata": {
        "colab": {
          "base_uri": "https://localhost:8080/"
        },
        "id": "0lqus3ke2E93",
        "outputId": "0c7bbcad-655d-43ab-8118-bbd731de5b08"
      },
      "execution_count": null,
      "outputs": [
        {
          "output_type": "execute_result",
          "data": {
            "text/plain": [
              "(60000,)"
            ]
          },
          "metadata": {},
          "execution_count": 7
        }
      ]
    },
    {
      "cell_type": "code",
      "source": [
        "Y_test.shape"
      ],
      "metadata": {
        "colab": {
          "base_uri": "https://localhost:8080/"
        },
        "id": "1KPdajBK2PQB",
        "outputId": "2a5fc5d1-225d-4e5a-ea2d-fa7e1073b991"
      },
      "execution_count": null,
      "outputs": [
        {
          "output_type": "execute_result",
          "data": {
            "text/plain": [
              "(10000,)"
            ]
          },
          "metadata": {},
          "execution_count": 8
        }
      ]
    },
    {
      "cell_type": "code",
      "source": [
        "# make the Y variables categorical\n",
        "from keras.utils import to_categorical\n",
        "Y_train = to_categorical(Y_train)\n",
        "Y_test = to_categorical(Y_test)"
      ],
      "metadata": {
        "id": "KKAR1gEc4B7q"
      },
      "execution_count": null,
      "outputs": []
    },
    {
      "cell_type": "code",
      "source": [
        "X_train = X_train.reshape(X_train.shape[0], 28, 28, 1)\n",
        "X_test = X_test.reshape(X_test.shape[0], 28, 28, 1)"
      ],
      "metadata": {
        "id": "RNz52VmH5R3i"
      },
      "execution_count": null,
      "outputs": []
    },
    {
      "cell_type": "code",
      "source": [
        "Y_train.shape"
      ],
      "metadata": {
        "colab": {
          "base_uri": "https://localhost:8080/"
        },
        "id": "KadMcnxo4eYV",
        "outputId": "54d5d829-c991-4408-fe84-dc5600313b53"
      },
      "execution_count": null,
      "outputs": [
        {
          "output_type": "execute_result",
          "data": {
            "text/plain": [
              "(60000, 10)"
            ]
          },
          "metadata": {},
          "execution_count": 11
        }
      ]
    },
    {
      "cell_type": "code",
      "source": [
        "# set up the model for the fashion data\n",
        "model = Sequential()\n",
        "model.add(Conv2D(32, (3, 3), activation = 'relu', kernel_initializer = 'he_uniform', input_shape = (28, 28, 1)))\n",
        "model.add(MaxPool2D(2, 2))\n",
        "model.add(Flatten())\n",
        "model.add(Dense(100, activation = 'relu'))\n",
        "model.add(Dense(50, activation = 'relu'))\n",
        "model.add(Dense(10, activation = 'softmax'))"
      ],
      "metadata": {
        "id": "x60rgHPn4onP"
      },
      "execution_count": null,
      "outputs": []
    },
    {
      "cell_type": "code",
      "source": [
        "# compile and fit the model for the fashion data\n",
        "model.compile(optimizer = 'SGD', loss = 'binary_crossentropy', metrics = ['accuracy'])\n",
        "history = model.fit(X_train, Y_train, epochs = 50, validation_data = (X_test, Y_test), batch_size = 32, verbose = 1)"
      ],
      "metadata": {
        "colab": {
          "base_uri": "https://localhost:8080/"
        },
        "id": "Vwy-Jsyb9Go9",
        "outputId": "8b7e0aa1-8694-4a1e-d007-133561366a46"
      },
      "execution_count": null,
      "outputs": [
        {
          "output_type": "stream",
          "name": "stdout",
          "text": [
            "Epoch 1/50\n",
            "1875/1875 [==============================] - 9s 4ms/step - loss: 0.1606 - accuracy: 0.7147 - val_loss: 0.1158 - val_accuracy: 0.7811\n",
            "Epoch 2/50\n",
            "1875/1875 [==============================] - 6s 3ms/step - loss: 0.1019 - accuracy: 0.8097 - val_loss: 0.0966 - val_accuracy: 0.8133\n",
            "Epoch 3/50\n",
            "1875/1875 [==============================] - 7s 4ms/step - loss: 0.0895 - accuracy: 0.8319 - val_loss: 0.0912 - val_accuracy: 0.8235\n",
            "Epoch 4/50\n",
            "1875/1875 [==============================] - 7s 3ms/step - loss: 0.0834 - accuracy: 0.8425 - val_loss: 0.0857 - val_accuracy: 0.8352\n",
            "Epoch 5/50\n",
            "1875/1875 [==============================] - 7s 4ms/step - loss: 0.0793 - accuracy: 0.8508 - val_loss: 0.0841 - val_accuracy: 0.8392\n",
            "Epoch 6/50\n",
            "1875/1875 [==============================] - 7s 4ms/step - loss: 0.0762 - accuracy: 0.8562 - val_loss: 0.0789 - val_accuracy: 0.8474\n",
            "Epoch 7/50\n",
            "1875/1875 [==============================] - 7s 4ms/step - loss: 0.0738 - accuracy: 0.8605 - val_loss: 0.0788 - val_accuracy: 0.8490\n",
            "Epoch 8/50\n",
            "1875/1875 [==============================] - 7s 4ms/step - loss: 0.0718 - accuracy: 0.8650 - val_loss: 0.0751 - val_accuracy: 0.8543\n",
            "Epoch 9/50\n",
            "1875/1875 [==============================] - 7s 3ms/step - loss: 0.0700 - accuracy: 0.8683 - val_loss: 0.0730 - val_accuracy: 0.8596\n",
            "Epoch 10/50\n",
            "1875/1875 [==============================] - 9s 5ms/step - loss: 0.0686 - accuracy: 0.8717 - val_loss: 0.0728 - val_accuracy: 0.8596\n",
            "Epoch 11/50\n",
            "1875/1875 [==============================] - 8s 4ms/step - loss: 0.0671 - accuracy: 0.8751 - val_loss: 0.0705 - val_accuracy: 0.8658\n",
            "Epoch 12/50\n",
            "1875/1875 [==============================] - 7s 4ms/step - loss: 0.0657 - accuracy: 0.8766 - val_loss: 0.0689 - val_accuracy: 0.8671\n",
            "Epoch 13/50\n",
            "1875/1875 [==============================] - 8s 4ms/step - loss: 0.0645 - accuracy: 0.8795 - val_loss: 0.0694 - val_accuracy: 0.8666\n",
            "Epoch 14/50\n",
            "1875/1875 [==============================] - 7s 3ms/step - loss: 0.0633 - accuracy: 0.8817 - val_loss: 0.0673 - val_accuracy: 0.8728\n",
            "Epoch 15/50\n",
            "1875/1875 [==============================] - 7s 4ms/step - loss: 0.0624 - accuracy: 0.8828 - val_loss: 0.0677 - val_accuracy: 0.8690\n",
            "Epoch 16/50\n",
            "1875/1875 [==============================] - 7s 4ms/step - loss: 0.0614 - accuracy: 0.8843 - val_loss: 0.0666 - val_accuracy: 0.8717\n",
            "Epoch 17/50\n",
            "1875/1875 [==============================] - 7s 4ms/step - loss: 0.0605 - accuracy: 0.8868 - val_loss: 0.0655 - val_accuracy: 0.8740\n",
            "Epoch 18/50\n",
            "1875/1875 [==============================] - 8s 4ms/step - loss: 0.0597 - accuracy: 0.8885 - val_loss: 0.0648 - val_accuracy: 0.8742\n",
            "Epoch 19/50\n",
            "1875/1875 [==============================] - 6s 3ms/step - loss: 0.0590 - accuracy: 0.8889 - val_loss: 0.0643 - val_accuracy: 0.8775\n",
            "Epoch 20/50\n",
            "1875/1875 [==============================] - 7s 4ms/step - loss: 0.0581 - accuracy: 0.8911 - val_loss: 0.0639 - val_accuracy: 0.8790\n",
            "Epoch 21/50\n",
            "1875/1875 [==============================] - 7s 4ms/step - loss: 0.0574 - accuracy: 0.8936 - val_loss: 0.0648 - val_accuracy: 0.8763\n",
            "Epoch 22/50\n",
            "1875/1875 [==============================] - 7s 4ms/step - loss: 0.0568 - accuracy: 0.8937 - val_loss: 0.0627 - val_accuracy: 0.8781\n",
            "Epoch 23/50\n",
            "1875/1875 [==============================] - 7s 4ms/step - loss: 0.0562 - accuracy: 0.8949 - val_loss: 0.0625 - val_accuracy: 0.8812\n",
            "Epoch 24/50\n",
            "1875/1875 [==============================] - 7s 4ms/step - loss: 0.0555 - accuracy: 0.8964 - val_loss: 0.0614 - val_accuracy: 0.8824\n",
            "Epoch 25/50\n",
            "1875/1875 [==============================] - 7s 4ms/step - loss: 0.0549 - accuracy: 0.8966 - val_loss: 0.0604 - val_accuracy: 0.8823\n",
            "Epoch 26/50\n",
            "1875/1875 [==============================] - 6s 3ms/step - loss: 0.0544 - accuracy: 0.8988 - val_loss: 0.0615 - val_accuracy: 0.8816\n",
            "Epoch 27/50\n",
            "1875/1875 [==============================] - 7s 4ms/step - loss: 0.0538 - accuracy: 0.8992 - val_loss: 0.0598 - val_accuracy: 0.8844\n",
            "Epoch 28/50\n",
            "1875/1875 [==============================] - 7s 4ms/step - loss: 0.0532 - accuracy: 0.8999 - val_loss: 0.0593 - val_accuracy: 0.8866\n",
            "Epoch 29/50\n",
            "1875/1875 [==============================] - 7s 4ms/step - loss: 0.0528 - accuracy: 0.9014 - val_loss: 0.0598 - val_accuracy: 0.8860\n",
            "Epoch 30/50\n",
            "1875/1875 [==============================] - 8s 4ms/step - loss: 0.0522 - accuracy: 0.9015 - val_loss: 0.0593 - val_accuracy: 0.8873\n",
            "Epoch 31/50\n",
            "1875/1875 [==============================] - 7s 3ms/step - loss: 0.0518 - accuracy: 0.9029 - val_loss: 0.0588 - val_accuracy: 0.8855\n",
            "Epoch 32/50\n",
            "1875/1875 [==============================] - 7s 4ms/step - loss: 0.0513 - accuracy: 0.9041 - val_loss: 0.0580 - val_accuracy: 0.8867\n",
            "Epoch 33/50\n",
            "1875/1875 [==============================] - 6s 3ms/step - loss: 0.0509 - accuracy: 0.9043 - val_loss: 0.0578 - val_accuracy: 0.8901\n",
            "Epoch 34/50\n",
            "1875/1875 [==============================] - 7s 4ms/step - loss: 0.0504 - accuracy: 0.9054 - val_loss: 0.0577 - val_accuracy: 0.8882\n",
            "Epoch 35/50\n",
            "1875/1875 [==============================] - 7s 3ms/step - loss: 0.0498 - accuracy: 0.9075 - val_loss: 0.0585 - val_accuracy: 0.8872\n",
            "Epoch 36/50\n",
            "1875/1875 [==============================] - 8s 4ms/step - loss: 0.0494 - accuracy: 0.9068 - val_loss: 0.0565 - val_accuracy: 0.8923\n",
            "Epoch 37/50\n",
            "1875/1875 [==============================] - 7s 4ms/step - loss: 0.0491 - accuracy: 0.9087 - val_loss: 0.0570 - val_accuracy: 0.8888\n",
            "Epoch 38/50\n",
            "1875/1875 [==============================] - 7s 4ms/step - loss: 0.0487 - accuracy: 0.9086 - val_loss: 0.0566 - val_accuracy: 0.8921\n",
            "Epoch 39/50\n",
            "1875/1875 [==============================] - 7s 4ms/step - loss: 0.0482 - accuracy: 0.9095 - val_loss: 0.0580 - val_accuracy: 0.8894\n",
            "Epoch 40/50\n",
            "1875/1875 [==============================] - 7s 3ms/step - loss: 0.0479 - accuracy: 0.9102 - val_loss: 0.0561 - val_accuracy: 0.8914\n",
            "Epoch 41/50\n",
            "1875/1875 [==============================] - 7s 4ms/step - loss: 0.0473 - accuracy: 0.9115 - val_loss: 0.0560 - val_accuracy: 0.8908\n",
            "Epoch 42/50\n",
            "1875/1875 [==============================] - 7s 4ms/step - loss: 0.0472 - accuracy: 0.9109 - val_loss: 0.0553 - val_accuracy: 0.8909\n",
            "Epoch 43/50\n",
            "1875/1875 [==============================] - 7s 4ms/step - loss: 0.0467 - accuracy: 0.9124 - val_loss: 0.0548 - val_accuracy: 0.8943\n",
            "Epoch 44/50\n",
            "1875/1875 [==============================] - 8s 4ms/step - loss: 0.0463 - accuracy: 0.9132 - val_loss: 0.0557 - val_accuracy: 0.8916\n",
            "Epoch 45/50\n",
            "1875/1875 [==============================] - 6s 3ms/step - loss: 0.0460 - accuracy: 0.9135 - val_loss: 0.0550 - val_accuracy: 0.8943\n",
            "Epoch 46/50\n",
            "1875/1875 [==============================] - 8s 4ms/step - loss: 0.0456 - accuracy: 0.9144 - val_loss: 0.0547 - val_accuracy: 0.8968\n",
            "Epoch 47/50\n",
            "1875/1875 [==============================] - 7s 4ms/step - loss: 0.0454 - accuracy: 0.9139 - val_loss: 0.0553 - val_accuracy: 0.8939\n",
            "Epoch 48/50\n",
            "1875/1875 [==============================] - 7s 4ms/step - loss: 0.0449 - accuracy: 0.9164 - val_loss: 0.0542 - val_accuracy: 0.8949\n",
            "Epoch 49/50\n",
            "1875/1875 [==============================] - 7s 4ms/step - loss: 0.0447 - accuracy: 0.9170 - val_loss: 0.0547 - val_accuracy: 0.8930\n",
            "Epoch 50/50\n",
            "1875/1875 [==============================] - 7s 4ms/step - loss: 0.0442 - accuracy: 0.9178 - val_loss: 0.0537 - val_accuracy: 0.8972\n"
          ]
        }
      ]
    },
    {
      "cell_type": "code",
      "source": [
        "# check the accuracy of the model for the fashion data\n",
        "loss,accuracy=model.evaluate(X_test,Y_test,verbose=1)\n",
        "\n",
        "loss, acc = model.evaluate(X_test, Y_test, verbose = 0)\n",
        "print('Test accuracy: %.3f' %acc)\n",
        "\n",
        "loss, acc = model.evaluate(X_train, Y_train, verbose = 0)\n",
        "print('Train accuracy: %.3f' %acc)"
      ],
      "metadata": {
        "colab": {
          "base_uri": "https://localhost:8080/"
        },
        "id": "LJkxgkB9Dt7y",
        "outputId": "2bcfe23c-c14d-4eae-c47a-cba4ac536ab6"
      },
      "execution_count": null,
      "outputs": [
        {
          "output_type": "stream",
          "name": "stdout",
          "text": [
            "313/313 [==============================] - 1s 2ms/step - loss: 0.0537 - accuracy: 0.8972\n",
            "Test accuracy: 0.897\n",
            "Train accuracy: 0.920\n"
          ]
        }
      ]
    },
    {
      "cell_type": "code",
      "source": [
        "# graph the accuracy of the fashion data model\n",
        "import matplotlib.pyplot as plt\n",
        "plt.plot(history.history['accuracy'])\n",
        "plt.plot(history.history['val_accuracy'])\n",
        "plt.title('Fashion data model accuracy')\n",
        "plt.ylabel('accuracy')\n",
        "plt.xlabel('epoch')\n",
        "plt.legend(['train', 'test'], loc = 'lower right')\n",
        "plt.show()"
      ],
      "metadata": {
        "colab": {
          "base_uri": "https://localhost:8080/",
          "height": 295
        },
        "id": "dE-IDOBPL_Xb",
        "outputId": "63c16bb6-afdd-4e0d-fc22-faf1c1c035e2"
      },
      "execution_count": null,
      "outputs": [
        {
          "output_type": "display_data",
          "data": {
            "text/plain": [
              "<Figure size 432x288 with 1 Axes>"
            ],
            "image/png": "[encoded data removed]"
          },
          "metadata": {
            "needs_background": "light"
          }
        }
      ]
    }
  ]
}